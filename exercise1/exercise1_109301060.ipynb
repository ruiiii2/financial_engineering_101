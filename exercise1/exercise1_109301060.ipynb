{
 "cells": [
  {
   "cell_type": "markdown",
   "metadata": {},
   "source": [
    "# **Exercises for Lecture 1**"
   ]
  },
  {
   "cell_type": "markdown",
   "metadata": {},
   "source": [
    "### 109301060 貿四乙 李叡"
   ]
  },
  {
   "cell_type": "markdown",
   "metadata": {},
   "source": [
    "### 1. Generate a sequence (0,1,...,30) with function range and assign it to a list x"
   ]
  },
  {
   "cell_type": "markdown",
   "metadata": {},
   "source": [
    "a. Extract (0,1,...,10) from x with the slicing operator."
   ]
  },
  {
   "cell_type": "code",
   "execution_count": 72,
   "metadata": {},
   "outputs": [
    {
     "name": "stdout",
     "output_type": "stream",
     "text": [
      "[0, 1, 2, 3, 4, 5, 6, 7, 8, 9, 10, 11, 12, 13, 14, 15, 16, 17, 18, 19, 20, 21, 22, 23, 24, 25, 26, 27, 28, 29, 30]\n"
     ]
    }
   ],
   "source": [
    "x = range(0,31)\n",
    "x = list(x)\n",
    "# a. Extract 0,1,2,..,10\n",
    "x[0:11]\n",
    "print(x)"
   ]
  },
  {
   "cell_type": "markdown",
   "metadata": {},
   "source": [
    "b. Extract (21,22,...,30) from x with the slicing operator."
   ]
  },
  {
   "cell_type": "code",
   "execution_count": 73,
   "metadata": {},
   "outputs": [
    {
     "data": {
      "text/plain": [
       "[21, 22, 23, 24, 25, 26, 27, 28, 29, 30]"
      ]
     },
     "execution_count": 73,
     "metadata": {},
     "output_type": "execute_result"
    }
   ],
   "source": [
    "x[-10:]"
   ]
  },
  {
   "cell_type": "markdown",
   "metadata": {},
   "source": [
    "c. Extract (10,12,...,24) from x with the slicing operator."
   ]
  },
  {
   "cell_type": "code",
   "execution_count": 74,
   "metadata": {},
   "outputs": [
    {
     "data": {
      "text/plain": [
       "[10, 12, 14, 16, 18, 20, 22, 24]"
      ]
     },
     "execution_count": 74,
     "metadata": {},
     "output_type": "execute_result"
    }
   ],
   "source": [
    "x[10:25:2]"
   ]
  },
  {
   "cell_type": "markdown",
   "metadata": {},
   "source": [
    "d. Extract (21,23,...,29) from x with the slicing operator."
   ]
  },
  {
   "cell_type": "code",
   "execution_count": 75,
   "metadata": {},
   "outputs": [
    {
     "data": {
      "text/plain": [
       "[21, 23, 25, 27, 29]"
      ]
     },
     "execution_count": 75,
     "metadata": {},
     "output_type": "execute_result"
    }
   ],
   "source": [
    "x[-10:-1:2]"
   ]
  },
  {
   "cell_type": "markdown",
   "metadata": {},
   "source": [
    "e. Use list comprehension to assign (31,32,...,40) in a list y."
   ]
  },
  {
   "cell_type": "code",
   "execution_count": 76,
   "metadata": {},
   "outputs": [
    {
     "name": "stdout",
     "output_type": "stream",
     "text": [
      "[31, 32, 33, 34, 35, 36, 37, 38, 39, 40]\n"
     ]
    }
   ],
   "source": [
    "y = [i+31 for i in range(10)]\n",
    "print(y)"
   ]
  },
  {
   "cell_type": "markdown",
   "metadata": {},
   "source": [
    "f. With list y, make x be a list of numbers (0,1,...,40)"
   ]
  },
  {
   "cell_type": "code",
   "execution_count": 77,
   "metadata": {},
   "outputs": [],
   "source": [
    "x.extend(y)"
   ]
  },
  {
   "cell_type": "markdown",
   "metadata": {},
   "source": [
    "g. Remove the number 33 from x with method remove."
   ]
  },
  {
   "cell_type": "code",
   "execution_count": 78,
   "metadata": {},
   "outputs": [
    {
     "name": "stdout",
     "output_type": "stream",
     "text": [
      "[0, 1, 2, 3, 4, 5, 6, 7, 8, 9, 10, 11, 12, 13, 14, 15, 16, 17, 18, 19, 20, 21, 22, 23, 24, 25, 26, 27, 28, 29, 30, 31, 32, 34, 35, 36, 37, 38, 39, 40]\n"
     ]
    }
   ],
   "source": [
    "x.remove(33)\n",
    "print(x)"
   ]
  },
  {
   "cell_type": "markdown",
   "metadata": {},
   "source": [
    "h. Delete numbers (31,32,...,40) in x with function del."
   ]
  },
  {
   "cell_type": "code",
   "execution_count": 79,
   "metadata": {},
   "outputs": [
    {
     "name": "stdout",
     "output_type": "stream",
     "text": [
      "[0, 1, 2, 3, 4, 5, 6, 7, 8, 9, 10, 11, 12, 13, 14, 15, 16, 17, 18, 19, 20, 21, 22, 23, 24, 25, 26, 27, 28, 29, 30]\n"
     ]
    }
   ],
   "source": [
    "del x[31:]\n",
    "print(x)"
   ]
  },
  {
   "cell_type": "markdown",
   "metadata": {},
   "source": [
    "### 2. Create a dictionary looks like:"
   ]
  },
  {
   "cell_type": "markdown",
   "metadata": {},
   "source": [
    "a. Extract Team and Points from the dictionary and print them."
   ]
  },
  {
   "cell_type": "code",
   "execution_count": 80,
   "metadata": {},
   "outputs": [
    {
     "name": "stdout",
     "output_type": "stream",
     "text": [
      "['Nuggets', 'Heat']\n",
      "[94, 89]\n"
     ]
    }
   ],
   "source": [
    "var1 = ['Nuggets', 'Heat']\n",
    "var2 = [94, 89]\n",
    "var3 = ['Win', 'Lose']\n",
    "\n",
    "Point_Board = {'Team': var1, 'Points': var2, 'Result': var3} \n",
    "\n",
    "# a. Extract Team and Points\n",
    "print(Point_Board['Team'])\n",
    "print(Point_Board['Points'])"
   ]
  },
  {
   "cell_type": "markdown",
   "metadata": {},
   "source": [
    "b. Extract the first element in Team from the dictionary and print it."
   ]
  },
  {
   "cell_type": "code",
   "execution_count": 81,
   "metadata": {},
   "outputs": [
    {
     "name": "stdout",
     "output_type": "stream",
     "text": [
      "Nuggets\n"
     ]
    }
   ],
   "source": [
    "print(Point_Board['Team'][0])"
   ]
  },
  {
   "cell_type": "markdown",
   "metadata": {},
   "source": [
    "c. Extract the second element in Points from the dictionary and print it."
   ]
  },
  {
   "cell_type": "code",
   "execution_count": 82,
   "metadata": {},
   "outputs": [
    {
     "name": "stdout",
     "output_type": "stream",
     "text": [
      "89\n"
     ]
    }
   ],
   "source": [
    "print(Point_Board['Points'][1])"
   ]
  },
  {
   "cell_type": "markdown",
   "metadata": {},
   "source": [
    "d. Change Points to (108,111) and Result to (Lose, Win) and print the changed\n",
    "dictionary."
   ]
  },
  {
   "cell_type": "code",
   "execution_count": 83,
   "metadata": {},
   "outputs": [
    {
     "name": "stdout",
     "output_type": "stream",
     "text": [
      "[108, 111] ['Lose', 'Win']\n"
     ]
    }
   ],
   "source": [
    "Point_Board['Points'] = [108, 111]\n",
    "Point_Board['Result'] = ['Lose', 'Win']\n",
    "print(Point_Board['Points'],Point_Board['Result'])"
   ]
  },
  {
   "cell_type": "markdown",
   "metadata": {},
   "source": [
    "### 3. Import two data files: SP500m.csv and NASDAQm.csv with pandas function read csv."
   ]
  },
  {
   "cell_type": "markdown",
   "metadata": {},
   "source": [
    "a. Transfer dates in column Date to ISO-8601 format with method to datetime.\n"
   ]
  },
  {
   "cell_type": "code",
   "execution_count": 84,
   "metadata": {},
   "outputs": [],
   "source": [
    "import pandas as pd \n",
    "import numpy as np\n",
    "\n",
    "df1 = pd.read_csv('NASDAQm.csv')\n",
    "df2 = pd.read_csv('SP500m.csv')\n",
    "\n",
    "# a. Transfer date\n",
    "df1['Date'] = pd.to_datetime(df1['Date'])\n",
    "df2['Date'] = pd.to_datetime(df2['Date'])"
   ]
  },
  {
   "cell_type": "markdown",
   "metadata": {},
   "source": [
    "b. With adjusted close prices (data in column Adj Close), calculate monthly\n",
    "log returns: $log (Pt)$ −$log (Pt−1)$, where $P_t$ and $P_{t−1}$ are adjusted close prices at period t and t −1. Assign the log returns into a new column called logr.\n",
    "Note that the first element in this new column should be nan."
   ]
  },
  {
   "cell_type": "code",
   "execution_count": 85,
   "metadata": {},
   "outputs": [],
   "source": [
    "logr1 = np.diff(np.log(df1['Adj Close']))\n",
    "logr2 = np.diff(np.log(df2['Adj Close']))\n",
    "\n",
    "df1['logr'] = np.append(np.nan, logr1)\n",
    "df2['logr'] = np.append(np.nan, logr2)"
   ]
  },
  {
   "cell_type": "markdown",
   "metadata": {},
   "source": [
    "c. With adjusted close prices, calculate monthly simple returns: ($P_t$−$P_{t−1}$)/$P_{t−1}$.\n",
    "Assign the simple returns into a new column called sr. Note that the first\n",
    "element in this new column should be nan."
   ]
  },
  {
   "cell_type": "code",
   "execution_count": 86,
   "metadata": {},
   "outputs": [],
   "source": [
    "sr1 = np.diff(df1['Adj Close'])/df1['Adj Close'][:-1]\n",
    "sr2 = np.diff(df2['Adj Close'])/df2['Adj Close'][:-1]\n",
    "\n",
    "df1['sr'] = np.append(np.nan, sr1)\n",
    "df2['sr'] = np.append(np.nan, sr2)"
   ]
  },
  {
   "cell_type": "markdown",
   "metadata": {},
   "source": [
    "d. Use method describe to calculate summary statistics of the data and assign\n",
    "the results of the summary statistics into result1 and result2."
   ]
  },
  {
   "cell_type": "code",
   "execution_count": 87,
   "metadata": {},
   "outputs": [],
   "source": [
    "pd.set_option('display.expand_frame_repr', False) \n",
    "result1 = df1.describe()\n",
    "result2 = df2.describe()"
   ]
  },
  {
   "cell_type": "markdown",
   "metadata": {},
   "source": [
    "e. Use functions skew and kurtosis in scipy to calculate skewness and kur-\n",
    "tosis of the data. Before you calculate, you need to drop the column Date.\n",
    "Then you need to use method apply. Also nan should be omitted in the\n",
    "calculations."
   ]
  },
  {
   "cell_type": "code",
   "execution_count": 88,
   "metadata": {},
   "outputs": [],
   "source": [
    "import scipy.stats as stats\n",
    "\n",
    "skew1 = df1.drop(columns = 'Date').apply(stats.skew, axis = 0, nan_policy = 'omit')\n",
    "skew2 = df2.drop(columns = 'Date').apply(stats.skew, axis = 0, nan_policy = 'omit')\n",
    "\n",
    "# Calculate kurtosis\n",
    "kurt1 = df1.drop(columns = 'Date').apply(stats.kurtosis, axis = 0, nan_policy = 'omit')\n",
    "kurt2 = df2.drop(columns = 'Date').apply(stats.kurtosis, axis = 0, nan_policy = 'omit')"
   ]
  },
  {
   "cell_type": "markdown",
   "metadata": {},
   "source": [
    "f. Combine results of skewness and kurtosis with those in result1 and result2.\n",
    "To do this, at first you may need to transfer results of skewness and kurtosis\n",
    "to pandas data frame with a column name. Then use function concat to\n",
    "combine these results."
   ]
  },
  {
   "cell_type": "code",
   "execution_count": 89,
   "metadata": {},
   "outputs": [
    {
     "name": "stdout",
     "output_type": "stream",
     "text": [
      "               Open          High           Low         Close     Adj Close              Volume                 logr                   sr\n",
      "count         252.0         252.0         252.0         252.0         252.0               252.0                251.0                251.0\n",
      "mean     3772.97789    3939.42082   3604.115038   3801.156669   3801.156669  42463165238.095238             0.004721             0.006818\n",
      "std     2330.860445   2453.884215   2259.121269   2393.402148   2393.402148  11602055312.169725             0.065061             0.064005\n",
      "min      1180.26001    1347.27002    1108.48999   1172.060059   1172.060059       24374040000.0            -0.260088            -0.229016\n",
      "25%     2110.534973   2191.360047   2023.952515    2110.17749    2110.17749       36351987500.0            -0.021779            -0.021543\n",
      "50%     2744.590087   2834.964966   2576.925049   2728.939941   2728.939941       40025100000.0             0.012607             0.012687\n",
      "75%     4855.502319   5055.527588   4615.784912   4911.014893   4911.014893       44430770000.0             0.041984             0.042878\n",
      "max    12313.360352  12973.330078  12214.740234  12888.280273  12888.280273      111707090000.0             0.175588             0.191947\n",
      "skew       1.353601      1.420748       1.36061      1.404406      1.404406            3.303199  -0.7955228054769021  -0.4878850188376394\n",
      "kurt       1.261181       1.50676      1.298911      1.485177      1.485177           13.973557             1.900283             1.281601\n",
      "              Open         High          Low        Close    Adj Close              Volume                 logr                   sr\n",
      "count        252.0        252.0        252.0        252.0        252.0               252.0                251.0                251.0\n",
      "mean   1647.670233   1701.77417  1589.671308  1655.942619  1655.942619  66662331865.079369             0.003948             0.004921\n",
      "std     666.447222   691.491422   651.178999   677.935525   677.935525  29810389351.540981             0.044168             0.043741\n",
      "min     729.570007    832.97998   666.789978   735.090027   735.090027       19089100000.0            -0.185636            -0.169425\n",
      "25%    1159.459961  1198.705048  1111.797455  1159.459961  1159.459961       39245030000.0            -0.017938            -0.017779\n",
      "50%    1396.159973  1429.245056      1333.25  1396.184998  1396.184998       70416325000.0             0.009931              0.00998\n",
      "75%    2067.042481  2111.452515   1995.19751  2067.642517  2067.642517       83711860000.0             0.030333             0.030798\n",
      "max    3645.870117  3760.199951  3633.399902  3756.070068  3756.070068      161843640000.0             0.119421             0.126844\n",
      "skew      1.013682     1.074052     0.988198     1.029316     1.029316            0.357213  -0.7110830933453083  -0.5199332199265635\n",
      "kurt     -0.006091     0.134833    -0.006701     0.060674     0.060674            0.102254             1.456416             1.094639\n"
     ]
    }
   ],
   "source": [
    "skew1 = pd.DataFrame(skew1, columns = ['skew'])    # should have a column name\n",
    "skew2 = pd.DataFrame(skew2, columns = ['skew'])    # should have a column name\n",
    "kurt1 = pd.DataFrame(kurt1, columns = ['kurt'])    # should have a column name\n",
    "kurt2 = pd.DataFrame(kurt2, columns = ['kurt'])    # should have a column name\n",
    "\n",
    "result1 = pd.concat([result1, skew1.transpose(), kurt1.transpose()])                                                      \n",
    "result2 = pd.concat([result2, skew2.transpose(), kurt2.transpose()]) \n",
    "\n",
    "print(result1)\n",
    "\n",
    "print(result2)"
   ]
  },
  {
   "cell_type": "markdown",
   "metadata": {},
   "source": [
    "g. Output these results with method to csv. The names of the output files are\n",
    "result1.csv and result2.csv. Note that the output should keep the row\n",
    "index. Also use the representation of NaN for not available number by setting\n",
    "na rep = ’NaN’ in the method."
   ]
  },
  {
   "cell_type": "code",
   "execution_count": 90,
   "metadata": {},
   "outputs": [],
   "source": [
    "result1.to_csv('result1.csv', na_rep = 'NaN') \n",
    "result2.to_csv('result2.csv', na_rep = 'NaN')"
   ]
  },
  {
   "cell_type": "markdown",
   "metadata": {},
   "source": [
    "h. Print out sample correlation between log and sample returns."
   ]
  },
  {
   "cell_type": "code",
   "execution_count": 91,
   "metadata": {},
   "outputs": [
    {
     "name": "stdout",
     "output_type": "stream",
     "text": [
      "         logr        sr\n",
      "1    0.175588  0.191947\n",
      "2   -0.026726 -0.026372\n",
      "3   -0.169294 -0.155739\n",
      "4   -0.126795 -0.119086\n",
      "5    0.153743  0.166191\n",
      "..        ...       ...\n",
      "247  0.091552  0.095874\n",
      "248 -0.053009 -0.051629\n",
      "249 -0.023183 -0.022916\n",
      "250  0.111507  0.117962\n",
      "251  0.054986  0.056526\n",
      "\n",
      "[251 rows x 2 columns]\n",
      "         logr        sr\n",
      "1   -0.020313 -0.020108\n",
      "2    0.092324  0.096720\n",
      "3   -0.031280 -0.030796\n",
      "4   -0.022159 -0.021915\n",
      "5    0.023652  0.023934\n",
      "..        ...       ...\n",
      "247  0.067719  0.070065\n",
      "248 -0.040018 -0.039228\n",
      "249 -0.028056 -0.027666\n",
      "250  0.102146  0.107546\n",
      "251  0.036449  0.037121\n",
      "\n",
      "[251 rows x 2 columns]\n"
     ]
    }
   ],
   "source": [
    "print(df1[['logr','sr']].dropna())\n",
    "print(df2[['logr','sr']].dropna())"
   ]
  },
  {
   "cell_type": "markdown",
   "metadata": {},
   "source": [
    "### 4"
   ]
  },
  {
   "cell_type": "markdown",
   "metadata": {},
   "source": [
    "a. Plot probability mass function of a binominal distribution with parameter\n",
    "n = 10 and p = 0.2. Save the plot with method savefig and file name\n",
    "figure1.png."
   ]
  },
  {
   "cell_type": "code",
   "execution_count": 92,
   "metadata": {},
   "outputs": [
    {
     "data": {
      "image/png": "[encoded data removed]",
      "text/plain": [
       "<Figure size 432x288 with 1 Axes>"
      ]
     },
     "metadata": {
      "needs_background": "light"
     },
     "output_type": "display_data"
    }
   ],
   "source": [
    "import scipy.stats as stats\n",
    "import numpy as np\n",
    "import matplotlib.pyplot as plt\n",
    "\n",
    "# values for x (all between 0 and 10):\n",
    "x = np.linspace(0, 10, num=11)\n",
    "\n",
    "# PMF for all these x's:\n",
    "fx = stats.binom.pmf(x, 10, 0.2)\n",
    "\n",
    "# plot:\n",
    "plt.bar(x, fx, color = '0.6')\n",
    "plt.xlabel('x')\n",
    "plt.ylabel('fx')\n",
    "plt.savefig('figure1.png')"
   ]
  },
  {
   "cell_type": "markdown",
   "metadata": {},
   "source": [
    "b. Plot probability density function of a normal distribution with mean equal to\n",
    "0.5 and standard deviation equal to 1.2. Save the plot with method savefig\n",
    "and file name figure2.png."
   ]
  },
  {
   "cell_type": "code",
   "execution_count": 93,
   "metadata": {},
   "outputs": [
    {
     "data": {
      "image/png": "[encoded data removed]",
      "text/plain": [
       "<Figure size 432x288 with 1 Axes>"
      ]
     },
     "metadata": {
      "needs_background": "light"
     },
     "output_type": "display_data"
    }
   ],
   "source": [
    "import scipy.stats as stats\n",
    "import numpy as np\n",
    "import matplotlib.pyplot as plt\n",
    "\n",
    "# Support of normal density, 100 points, from -4 to 4.5 equally spaced\n",
    "x_range = np.linspace(-4, 4.5, num = 100)\n",
    "\n",
    "# PDF for all these x's:\n",
    "pdf = stats.norm.pdf(x_range, loc = 0.5, scale = 1.2)\n",
    "\n",
    "# plot:\n",
    "plt.plot(x_range, pdf, linestyle='-', color = 'black')\n",
    "plt.xlabel('x')\n",
    "plt.ylabel('dx')\n",
    "plt.savefig('figure2.png')"
   ]
  },
  {
   "cell_type": "markdown",
   "metadata": {},
   "source": [
    "### 5. Conduct a simulation to verify unbiasedness."
   ]
  },
  {
   "cell_type": "markdown",
   "metadata": {},
   "source": [
    "a. Use random.seed to initialize the random number generator."
   ]
  },
  {
   "cell_type": "code",
   "execution_count": 94,
   "metadata": {},
   "outputs": [],
   "source": [
    "import numpy as np\n",
    "import scipy.stats as stats\n",
    "\n",
    "# a. Set the random seed:\n",
    "np.random.seed(123456)"
   ]
  },
  {
   "cell_type": "markdown",
   "metadata": {},
   "source": [
    "b. What are mean and variance of a random variable following exponential distribution with parameter λ = 1.2."
   ]
  },
  {
   "cell_type": "markdown",
   "metadata": {},
   "source": [
    "**The mean is 0.8333 and variance is 0.6944**"
   ]
  },
  {
   "cell_type": "markdown",
   "metadata": {},
   "source": [
    "c. Generate 100 random samples from an exponential distribution with parameter λ = 1.2. Calculate sample mean and sample variance."
   ]
  },
  {
   "cell_type": "code",
   "execution_count": 95,
   "metadata": {},
   "outputs": [
    {
     "name": "stdout",
     "output_type": "stream",
     "text": [
      "0.7900450319206638 0.6398100200190397\n"
     ]
    }
   ],
   "source": [
    "n = 100\n",
    "\n",
    "# Draw a sample given the population parameters:\n",
    "sample1 = stats.expon.rvs(scale = 1/1.2, size = n)\n",
    "\n",
    "# Calculate the sample average:\n",
    "print(np.mean(sample1), np.var(sample1, ddof = 1))"
   ]
  },
  {
   "cell_type": "markdown",
   "metadata": {},
   "source": [
    "d. Repeat question c. again and compare the calculated sample mean and sample variance with those obtained in question c."
   ]
  },
  {
   "cell_type": "code",
   "execution_count": 96,
   "metadata": {},
   "outputs": [
    {
     "name": "stdout",
     "output_type": "stream",
     "text": [
      "0.8964328358728296 0.7643199913116412\n"
     ]
    }
   ],
   "source": [
    "sample2 = stats.expon.rvs(scale = 1/1.2, size = n)\n",
    "print(np.mean(sample2), np.var(sample2, ddof = 1))"
   ]
  },
  {
   "cell_type": "markdown",
   "metadata": {},
   "source": [
    "e. Repeat question c. 10,000 times and collect the sample mean and sample\n",
    "variance estimates."
   ]
  },
  {
   "cell_type": "code",
   "execution_count": 97,
   "metadata": {},
   "outputs": [],
   "source": [
    "r = 10000\n",
    "lambda_mean = np.empty(r)       ## for storing estimate of mean\n",
    "lambda_var = np.empty(r)        ## for storing estimate of variance\n",
    "\n",
    "# Repeat 10,000 times:\n",
    "for j in range(r):\n",
    "    sample = stats.expon.rvs(scale = 1/1.2, size = n)\n",
    "    lambda_mean[j] = np.mean(sample)\n",
    "    lambda_var[j] = np.var(sample, ddof = 1)"
   ]
  },
  {
   "cell_type": "markdown",
   "metadata": {},
   "source": [
    "f. Calculate sample means of the 10,000 sample mean and sample variance estimates and compare them to values of the population mean and variance."
   ]
  },
  {
   "cell_type": "code",
   "execution_count": 98,
   "metadata": {},
   "outputs": [
    {
     "name": "stdout",
     "output_type": "stream",
     "text": [
      "0.833091862340538\n",
      "0.6917059967509185\n"
     ]
    }
   ],
   "source": [
    "print(np.mean(lambda_mean))\n",
    "print(np.mean(lambda_var))"
   ]
  }
 ],
 "metadata": {
  "kernelspec": {
   "display_name": "Python 3 (ipykernel)",
   "language": "python",
   "name": "python3"
  },
  "language_info": {
   "codemirror_mode": {
    "name": "ipython",
    "version": 3
   },
   "file_extension": ".py",
   "mimetype": "text/x-python",
   "name": "python",
   "nbconvert_exporter": "python",
   "pygments_lexer": "ipython3",
   "version": "3.9.2"
  }
 },
 "nbformat": 4,
 "nbformat_minor": 2
}
