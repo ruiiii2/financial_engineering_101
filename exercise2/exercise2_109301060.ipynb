{
 "cells": [
  {
   "cell_type": "markdown",
   "metadata": {},
   "source": [
    "# **Exercises for Lecture 2**"
   ]
  },
  {
   "cell_type": "markdown",
   "metadata": {},
   "source": [
    "**109301060 貿四乙 李叡**"
   ]
  },
  {
   "cell_type": "markdown",
   "metadata": {},
   "source": [
    "#### Q1.a"
   ]
  },
  {
   "cell_type": "code",
   "execution_count": 353,
   "metadata": {},
   "outputs": [],
   "source": [
    "import wooldridge as woo\n",
    "import statsmodels.formula.api as smf\n",
    "import numpy as np\n",
    "\n",
    "ceosal2 = woo.dataWoo('ceosal2')\n",
    "y = ceosal2['salary']\n",
    "x = ceosal2['ceoten']"
   ]
  },
  {
   "cell_type": "code",
   "execution_count": 354,
   "metadata": {},
   "outputs": [
    {
     "name": "stdout",
     "output_type": "stream",
     "text": [
      "865.86\n",
      "7.95\n"
     ]
    }
   ],
   "source": [
    "# a. Average salary and tenure\n",
    "avg_sal = np.mean(y)\n",
    "avg_ten = np.mean(x)\n",
    "\n",
    "print(round(avg_sal, 2))\n",
    "print(round(avg_ten, 2))"
   ]
  },
  {
   "cell_type": "markdown",
   "metadata": {},
   "source": [
    "#### Q1.b"
   ]
  },
  {
   "cell_type": "code",
   "execution_count": 355,
   "metadata": {},
   "outputs": [
    {
     "name": "stdout",
     "output_type": "stream",
     "text": [
      "5\n",
      "37\n"
     ]
    }
   ],
   "source": [
    "# b. How many CEO's are in their first year?\n",
    "ten_year1 = np.sum(x==0)\n",
    "\n",
    "print(ten_year1) \n",
    "\n",
    "# Longest tenure \n",
    "ten_max = np.max(x)\n",
    "\n",
    "print(ten_max)\n"
   ]
  },
  {
   "cell_type": "markdown",
   "metadata": {},
   "source": [
    "#### Q1.c"
   ]
  },
  {
   "cell_type": "code",
   "execution_count": 356,
   "metadata": {},
   "outputs": [
    {
     "name": "stdout",
     "output_type": "stream",
     "text": [
      "b: \n",
      "Intercept    6.505498\n",
      "ceoten       0.009724\n",
      "dtype: float64\n",
      "\n",
      "results.summary(): \n",
      "                            OLS Regression Results                            \n",
      "==============================================================================\n",
      "Dep. Variable:         np.log(salary)   R-squared:                       0.013\n",
      "Model:                            OLS   Adj. R-squared:                  0.008\n",
      "Method:                 Least Squares   F-statistic:                     2.334\n",
      "Date:                Tue, 16 Apr 2024   Prob (F-statistic):              0.128\n",
      "Time:                        09:10:56   Log-Likelihood:                -160.84\n",
      "No. Observations:                 177   AIC:                             325.7\n",
      "Df Residuals:                     175   BIC:                             332.0\n",
      "Df Model:                           1                                         \n",
      "Covariance Type:            nonrobust                                         \n",
      "==============================================================================\n",
      "                 coef    std err          t      P>|t|      [0.025      0.975]\n",
      "------------------------------------------------------------------------------\n",
      "Intercept      6.5055      0.068     95.682      0.000       6.371       6.640\n",
      "ceoten         0.0097      0.006      1.528      0.128      -0.003       0.022\n",
      "==============================================================================\n",
      "Omnibus:                        3.858   Durbin-Watson:                   2.084\n",
      "Prob(Omnibus):                  0.145   Jarque-Bera (JB):                3.907\n",
      "Skew:                          -0.189   Prob(JB):                        0.142\n",
      "Kurtosis:                       3.622   Cond. No.                         16.1\n",
      "==============================================================================\n",
      "\n",
      "Notes:\n",
      "[1] Standard Errors assume that the covariance matrix of the errors is correctly specified.\n",
      "\n",
      "table: \n",
      "                b      se        t    pval\n",
      "Intercept  6.5055  0.0680  95.6817  0.0000\n",
      "ceoten     0.0097  0.0064   1.5278  0.1284\n",
      "\n"
     ]
    }
   ],
   "source": [
    "# c. Estimate the regression\n",
    "reg = smf.ols('np.log(salary) ~ ceoten', data = ceosal2)\n",
    "results = reg.fit()\n",
    "b = results.params\n",
    "\n",
    "# Print parameter estimates\n",
    "print(f'b: \\n{b}\\n')\n",
    "\n",
    "# Print results using summary:\n",
    "print(f'results.summary(): \\n{results.summary()}\\n')\n",
    "\n",
    "# Print regression table\n",
    "import pandas as pd\n",
    "\n",
    "table = pd.DataFrame({'b': round(b, 4),\n",
    "                      'se': round(results.bse, 4),\n",
    "                      't': round(results.tvalues, 4),\n",
    "                      'pval': round(results.pvalues, 4)})\n",
    "print(f'table: \\n{table}\\n')"
   ]
  },
  {
   "cell_type": "markdown",
   "metadata": {},
   "source": [
    "$0.97\\%$ increase in salary given one more year as a CEO."
   ]
  },
  {
   "cell_type": "markdown",
   "metadata": {},
   "source": [
    "#### Q2.a"
   ]
  },
  {
   "cell_type": "code",
   "execution_count": 357,
   "metadata": {},
   "outputs": [
    {
     "name": "stdout",
     "output_type": "stream",
     "text": [
      "4.963334976122681\n",
      "2.7863943061386656\n"
     ]
    }
   ],
   "source": [
    "import scipy.stats as stats\n",
    "import numpy as np\n",
    "import statsmodels.formula.api as smf\n",
    "import pandas as pd\n",
    "\n",
    "# a. Generate 500 uniform random variable x\n",
    "# Lower = loc, Upper = loc + scale \n",
    "x = stats.uniform.rvs(loc = 0, scale = 10, size = 500)\n",
    "\n",
    "# Sample mean and standard deviation of x\n",
    "mean_x = x.mean()\n",
    "std_x = x.std()\n",
    "print(mean_x)\n",
    "print(std_x)"
   ]
  },
  {
   "cell_type": "markdown",
   "metadata": {},
   "source": [
    "#### Q2.b"
   ]
  },
  {
   "cell_type": "code",
   "execution_count": 358,
   "metadata": {},
   "outputs": [
    {
     "name": "stdout",
     "output_type": "stream",
     "text": [
      "0.02234090133816153\n",
      "5.822551531428157\n"
     ]
    }
   ],
   "source": [
    "# b. Generate 500 N(0, 36) variable u\n",
    "u = stats.norm.rvs(loc = 0, scale = np.sqrt(36), size = 500)\n",
    "mean_u = u.mean()\n",
    "std_u = u.std()\n",
    "print(mean_u)\n",
    "print(std_u)"
   ]
  },
  {
   "cell_type": "markdown",
   "metadata": {},
   "source": [
    "Although the $u$ sample mean and standard deviation have some deviations from the theoretical\n",
    "values, they are within a reasonable range.\n",
    "Therefore, it can be considered that the generated $u$ data satisfies the assumption of obeying the $N(0, 36)$."
   ]
  },
  {
   "cell_type": "markdown",
   "metadata": {},
   "source": [
    "#### Q2.c"
   ]
  },
  {
   "cell_type": "code",
   "execution_count": 359,
   "metadata": {},
   "outputs": [
    {
     "name": "stdout",
     "output_type": "stream",
     "text": [
      "b:\n",
      "Intercept    0.264935\n",
      "x            2.152600\n",
      "dtype: float64\n",
      "\n"
     ]
    }
   ],
   "source": [
    "# c. Generate y = 1 + 2x +u\n",
    "y = 1 + 2*x + u\n",
    "\n",
    "data1 = pd.DataFrame({'y':y, 'x': x})\n",
    "\n",
    "# Run the regression\n",
    "reg = smf.ols(formula = 'y~x', data = data1)\n",
    "results = reg.fit()\n",
    "\n",
    "# Parameter estimates\n",
    "b = results.params\n",
    "print(f'b:\\n{b}\\n')"
   ]
  },
  {
   "cell_type": "markdown",
   "metadata": {},
   "source": [
    "$\\beta_1$ is close to the theoretical value.\n",
    "\n",
    "$\\beta_0$ is far different from the theoretical value, but the intercept $\\beta_1$ is more easily affected by the\n",
    "randomness of $u$.\n",
    "\n",
    "Overall, although the estimated value of $\\beta_0$ deviates from the true value, the estimated value of $\\beta_1$ is very accurate, and the overall regression model captures the linear relationship between $y$ and $x$, so the regression result is satisfactory."
   ]
  },
  {
   "cell_type": "markdown",
   "metadata": {},
   "source": [
    "#### Q2.d"
   ]
  },
  {
   "cell_type": "code",
   "execution_count": 360,
   "metadata": {},
   "outputs": [
    {
     "name": "stdout",
     "output_type": "stream",
     "text": [
      "2.3661073100811336e-12\n",
      "1.3812950783176348e-11\n"
     ]
    }
   ],
   "source": [
    "# d. OLS residuals\n",
    "# Two ways to get the residuals \n",
    "u_hat1 = results.resid\n",
    "\n",
    "# Verify properties of residuals (use u_hat1)\n",
    "sum_u_hat1 = u_hat1.sum()\n",
    "print(sum_u_hat1)\n",
    "\n",
    "x_u_hat1 = (x * u_hat1).sum() \n",
    "print(x_u_hat1)"
   ]
  },
  {
   "cell_type": "markdown",
   "metadata": {},
   "source": [
    "$\\sum \\limits_{i=1} ^n\\hat{u_i}$ and $\\sum\\limits_{i=1} ^n x_i\\hat{u_i}$ are all close to $0$, and the characteristics are established."
   ]
  },
  {
   "cell_type": "markdown",
   "metadata": {},
   "source": [
    "#### Q2.e"
   ]
  },
  {
   "cell_type": "code",
   "execution_count": 361,
   "metadata": {},
   "outputs": [
    {
     "name": "stdout",
     "output_type": "stream",
     "text": [
      "11.170450669080765\n",
      "647.836058760705\n"
     ]
    }
   ],
   "source": [
    "# e. Use u \n",
    "sum_u = u.sum()\n",
    "print(sum_u)\n",
    "\n",
    "x_u = (x*u).sum()\n",
    "print(x_u)"
   ]
  },
  {
   "cell_type": "markdown",
   "metadata": {},
   "source": [
    "Obviously $\\sum \\limits_{i=1} ^n {u_i}$ and $\\sum\\limits_{i=1} ^n x_i u_i$ are not equal to $0$, and the characteristics do not hold.\n",
    "\n",
    "This is reasonable because the least squares residual $\\hat{u_i}$ is specially constructed to satisfy theseproperties.\n",
    "\n",
    "But the real error term $u_i$ is randomly generated."
   ]
  },
  {
   "cell_type": "markdown",
   "metadata": {},
   "source": [
    "#### Q2.f"
   ]
  },
  {
   "cell_type": "code",
   "execution_count": 362,
   "metadata": {},
   "outputs": [
    {
     "name": "stdout",
     "output_type": "stream",
     "text": [
      "mean_x: 4.920882160167661\n",
      "std_x: 2.792962130931689\n",
      "mean_u: -0.38946532625981\n",
      "std_u: 5.976240329242176\n",
      "--------------------------\n",
      "b:\n",
      "Intercept    0.538665\n",
      "x            2.014605\n",
      "dtype: float64\n",
      "\n",
      "--------------------------\n",
      "-2.1316282072803006e-13\n",
      "-3.609557097661309e-12\n",
      "-194.732663129905\n",
      "-901.2920781265744\n"
     ]
    }
   ],
   "source": [
    "# a. Generate 500 uniform random variable x\n",
    "# Lower = loc, Upper = loc + scale \n",
    "x1 = stats.uniform.rvs(loc = 0, scale = 10, size = 500)\n",
    "\n",
    "# Sample mean and standard deviation of x\n",
    "mean_x = x1.mean()\n",
    "std_x = x1.std()\n",
    "print('mean_x:',mean_x)\n",
    "print('std_x:',std_x)\n",
    "\n",
    "# b. Generate 500 N(0, 36) variable u\n",
    "u1 = stats.norm.rvs(loc = 0, scale = np.sqrt(36), size = 500)\n",
    "mean_u = u1.mean()\n",
    "std_u = u1.std()\n",
    "print('mean_u:',mean_u)\n",
    "print('std_u:',std_u)\n",
    "\n",
    "print('--------------------------')\n",
    "# c. Generate y = 1 + 2x +u\n",
    "y1 = 1 + 2*x1 + u1\n",
    "\n",
    "data2 = pd.DataFrame({'y':y1, 'x': x1})\n",
    "\n",
    "# Run the regression\n",
    "reg = smf.ols(formula = 'y~x', data = data2)\n",
    "results = reg.fit()\n",
    "\n",
    "# Parameter estimates\n",
    "b = results.params\n",
    "print(f'b:\\n{b}\\n')\n",
    "print('--------------------------')\n",
    "\n",
    "# d. OLS residuals\n",
    "# Two ways to get the residuals \n",
    "u_hat1 = results.resid\n",
    "\n",
    "# Verify properties of residuals (use u_hat1)\n",
    "sum_u_hat1 = u_hat1.sum()\n",
    "print(sum_u_hat1)\n",
    "\n",
    "x_u_hat1 = (x1 * u_hat1).sum() \n",
    "print(x_u_hat1)\n",
    "\n",
    "# e. Use u \n",
    "sum_u = u1.sum()\n",
    "print(sum_u)\n",
    "\n",
    "x_u = (x1*u1).sum()\n",
    "print(x_u)"
   ]
  },
  {
   "cell_type": "markdown",
   "metadata": {},
   "source": [
    "The conclusion of Q2.E still holds."
   ]
  },
  {
   "cell_type": "markdown",
   "metadata": {},
   "source": [
    "#### Q3.a"
   ]
  },
  {
   "cell_type": "code",
   "execution_count": 363,
   "metadata": {},
   "outputs": [],
   "source": [
    "import numpy as np\n",
    "import pandas as pd\n",
    "import matplotlib.pyplot as plt\n",
    "import statsmodels.formula.api as smf\n",
    "\n",
    "# a. Import data\n",
    "data = pd.read_csv('data_exercise_2c.csv')"
   ]
  },
  {
   "cell_type": "markdown",
   "metadata": {},
   "source": [
    "#### Q3.b"
   ]
  },
  {
   "cell_type": "code",
   "execution_count": 364,
   "metadata": {},
   "outputs": [],
   "source": [
    "# b. Transfer DATE to date\n",
    "data['DATE'] = pd.to_datetime(data['DATE'])"
   ]
  },
  {
   "cell_type": "markdown",
   "metadata": {},
   "source": [
    "#### Q3.c"
   ]
  },
  {
   "cell_type": "code",
   "execution_count": 365,
   "metadata": {},
   "outputs": [],
   "source": [
    "# c. Calculate simple return\n",
    "SP500_sr = np.diff(data['SP500'])/data['SP500'][:-1]\n",
    "AAPL_sr = np.diff(data['AAPL_Close'])/data['AAPL_Close'][:-1]\n",
    "AAPL_Adj_sr = np.diff(data['AAPL_Adj_Close'])/data['AAPL_Adj_Close'][:-1]\n",
    "\n",
    "data['SP500_sr'] = np.append(np.nan, SP500_sr)\n",
    "data['AAPL_sr'] = np.append(np.nan, AAPL_sr)\n",
    "data['AAPL_Adj_sr'] = np.append(np.nan, AAPL_Adj_sr)"
   ]
  },
  {
   "cell_type": "markdown",
   "metadata": {},
   "source": [
    "#### Q3.d"
   ]
  },
  {
   "cell_type": "code",
   "execution_count": 366,
   "metadata": {},
   "outputs": [
    {
     "name": "stdout",
     "output_type": "stream",
     "text": [
      "           MKT_rp     AAPL_rp  AAPL_Adj_rp\n",
      "count  116.000000  116.000000   116.000000\n",
      "mean     0.008940    0.023283     0.024555\n",
      "std      0.033172    0.080546     0.080221\n",
      "min     -0.191881   -0.185845    -0.185845\n",
      "25%     -0.003751   -0.026152    -0.026152\n",
      "50%      0.013634    0.023168     0.026221\n",
      "75%      0.027767    0.078010     0.078010\n",
      "max      0.063280    0.214280     0.214280\n"
     ]
    }
   ],
   "source": [
    "# d. Calculate risk premia\n",
    "data['MKT_rp'] = data['SP500_sr'] - data['RF_%']/100\n",
    "data['AAPL_rp'] = data['AAPL_sr'] - data['RF_%']/100\n",
    "data['AAPL_Adj_rp'] = data['AAPL_Adj_sr'] - data['RF_%']/100\n",
    "\n",
    "# Calculate summary statistics of these risk premia\n",
    "results_sst = data[['MKT_rp', 'AAPL_rp', 'AAPL_Adj_rp']].describe()\n",
    "print(results_sst)"
   ]
  },
  {
   "cell_type": "markdown",
   "metadata": {},
   "source": [
    "#### Q3.e"
   ]
  },
  {
   "cell_type": "code",
   "execution_count": 367,
   "metadata": {},
   "outputs": [
    {
     "name": "stdout",
     "output_type": "stream",
     "text": [
      "result_capm.summary():\n",
      "                            OLS Regression Results                            \n",
      "==============================================================================\n",
      "Dep. Variable:                AAPL_rp   R-squared:                       0.210\n",
      "Model:                            OLS   Adj. R-squared:                  0.203\n",
      "Method:                 Least Squares   F-statistic:                     30.30\n",
      "Date:                Tue, 16 Apr 2024   Prob (F-statistic):           2.31e-07\n",
      "Time:                        09:10:56   Log-Likelihood:                 141.77\n",
      "No. Observations:                 116   AIC:                            -279.5\n",
      "Df Residuals:                     114   BIC:                            -274.0\n",
      "Df Model:                           1                                         \n",
      "Covariance Type:            nonrobust                                         \n",
      "==============================================================================\n",
      "                 coef    std err          t      P>|t|      [0.025      0.975]\n",
      "------------------------------------------------------------------------------\n",
      "Intercept      0.0133      0.007      1.928      0.056      -0.000       0.027\n",
      "MKT_rp         1.1127      0.202      5.505      0.000       0.712       1.513\n",
      "==============================================================================\n",
      "Omnibus:                        2.296   Durbin-Watson:                   1.950\n",
      "Prob(Omnibus):                  0.317   Jarque-Bera (JB):                2.128\n",
      "Skew:                          -0.331   Prob(JB):                        0.345\n",
      "Kurtosis:                       2.951   Cond. No.                         30.3\n",
      "==============================================================================\n",
      "\n",
      "Notes:\n",
      "[1] Standard Errors assume that the covariance matrix of the errors is correctly specified.\n",
      "\n"
     ]
    }
   ],
   "source": [
    "# e. Fit CAPM \n",
    "data = data.drop(data.index[0])      # remove the row containing NaN\n",
    "\n",
    "# AAPL_rf\n",
    "capm = smf.ols('AAPL_rp ~ MKT_rp', data=data)\n",
    "result_capm = capm.fit()\n",
    "print(f'result_capm.summary():\\n{result_capm.summary()}\\n')"
   ]
  },
  {
   "cell_type": "markdown",
   "metadata": {},
   "source": [
    "$\\alpha = 0.0133$\n",
    "\n",
    "$\\beta = 1.1127$"
   ]
  },
  {
   "cell_type": "markdown",
   "metadata": {},
   "source": [
    "#### Q3.f"
   ]
  },
  {
   "cell_type": "code",
   "execution_count": 368,
   "metadata": {},
   "outputs": [
    {
     "name": "stdout",
     "output_type": "stream",
     "text": [
      "result_capm_adj.summary():\n",
      "                            OLS Regression Results                            \n",
      "==============================================================================\n",
      "Dep. Variable:            AAPL_Adj_rp   R-squared:                       0.212\n",
      "Model:                            OLS   Adj. R-squared:                  0.205\n",
      "Method:                 Least Squares   F-statistic:                     30.71\n",
      "Date:                Tue, 16 Apr 2024   Prob (F-statistic):           1.96e-07\n",
      "Time:                        09:10:56   Log-Likelihood:                 142.41\n",
      "No. Observations:                 116   AIC:                            -280.8\n",
      "Df Residuals:                     114   BIC:                            -275.3\n",
      "Df Model:                           1                                         \n",
      "Covariance Type:            nonrobust                                         \n",
      "==============================================================================\n",
      "                 coef    std err          t      P>|t|      [0.025      0.975]\n",
      "------------------------------------------------------------------------------\n",
      "Intercept      0.0146      0.007      2.122      0.036       0.001       0.028\n",
      "MKT_rp         1.1141      0.201      5.542      0.000       0.716       1.512\n",
      "==============================================================================\n",
      "Omnibus:                        2.567   Durbin-Watson:                   1.945\n",
      "Prob(Omnibus):                  0.277   Jarque-Bera (JB):                2.312\n",
      "Skew:                          -0.346   Prob(JB):                        0.315\n",
      "Kurtosis:                       3.009   Cond. No.                         30.3\n",
      "==============================================================================\n",
      "\n",
      "Notes:\n",
      "[1] Standard Errors assume that the covariance matrix of the errors is correctly specified.\n",
      "\n"
     ]
    }
   ],
   "source": [
    "# f. AAPL_adj_rf\n",
    "capm_adj = smf.ols('AAPL_Adj_rp ~ MKT_rp', data=data)\n",
    "result_capm_adj = capm_adj.fit()\n",
    "print(f'result_capm_adj.summary():\\n{result_capm_adj.summary()}\\n')"
   ]
  },
  {
   "cell_type": "markdown",
   "metadata": {},
   "source": [
    "$\\alpha = 0.0146$\n",
    "\n",
    "$\\beta = 1.1141$"
   ]
  },
  {
   "cell_type": "markdown",
   "metadata": {},
   "source": [
    "#### Q3.g"
   ]
  },
  {
   "cell_type": "code",
   "execution_count": 369,
   "metadata": {},
   "outputs": [
    {
     "data": {
      "image/png": "[encoded data removed]",
      "text/plain": [
       "<Figure size 432x288 with 2 Axes>"
      ]
     },
     "metadata": {
      "needs_background": "light"
     },
     "output_type": "display_data"
    }
   ],
   "source": [
    "# g. Plot fitted results\n",
    "fig = plt.figure()       # initialize figure window\n",
    "fig.subplots_adjust(hspace=.5, wspace=0.4) # Use this to do some adjustments\n",
    "\n",
    "# AAPL  \n",
    "x = data['MKT_rp']       # Market risk premium\n",
    "y = data['AAPL_rp']      # Risk premium of individual stock \n",
    "b = result_capm.params   # Estimated parameters\n",
    "\n",
    "x_range = np.linspace(data['MKT_rp'].min(), data['MKT_rp'].max(), num = 200)\n",
    "ax = fig.add_subplot(1, 2, 1)\n",
    "\n",
    "plt.plot(x, y, color = 'blue', marker = 'o', linestyle = '')\n",
    "plt.plot(x_range, b[0] + b[1]*x_range, color = 'red',\n",
    "         linestyle = '--', linewidth = 2, label = 'Est. CAPM')\n",
    "plt.xlabel('Mkt - Rf')\n",
    "plt.ylabel('AAPL - Rf')\n",
    "plt.legend()\n",
    "ax.set_title('AAPL')        ## Use this to make a title for the plot\n",
    "\n",
    "# AAPL_adj\n",
    "x = data['MKT_rp']       # Market risk premium     \n",
    "y = data['AAPL_Adj_rp']   # Risk premium of individual stock\n",
    "b = result_capm_adj.params # Estimated parameters\n",
    "\n",
    "x_range = np.linspace(data['MKT_rp'].min(), data['MKT_rp'].max(), num = 200)\n",
    "ax = fig.add_subplot(1, 2, 2)\n",
    "\n",
    "plt.plot(x, y, color = 'blue', marker = 'o', linestyle = '')\n",
    "plt.plot(x_range, b[0] + b[1]*x_range, color = 'red', linestyle = '--', linewidth = 2, label = 'Est. CAPM')\n",
    "plt.xlabel('Mkt - Rf')\n",
    "plt.ylabel('Risk Premium')\n",
    "ax.set_title('AAPL Adjusted')\n",
    "plt.legend()\n",
    "\n",
    "# Plot and save the plot\n",
    "plt.savefig('capm_plots.png')"
   ]
  }
 ],
 "metadata": {
  "kernelspec": {
   "display_name": "Python 3",
   "language": "python",
   "name": "python3"
  },
  "language_info": {
   "codemirror_mode": {
    "name": "ipython",
    "version": 3
   },
   "file_extension": ".py",
   "mimetype": "text/x-python",
   "name": "python",
   "nbconvert_exporter": "python",
   "pygments_lexer": "ipython3",
   "version": "3.9.2"
  }
 },
 "nbformat": 4,
 "nbformat_minor": 2
}
