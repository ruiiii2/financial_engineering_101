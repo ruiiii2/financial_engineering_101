{
 "cells": [
  {
   "cell_type": "markdown",
   "metadata": {},
   "source": [
    "# **Exercises for Lecture 3**"
   ]
  },
  {
   "cell_type": "markdown",
   "metadata": {},
   "source": [
    "### 109301060 貿四乙 李叡"
   ]
  },
  {
   "cell_type": "markdown",
   "metadata": {},
   "source": [
    "### Q1"
   ]
  },
  {
   "cell_type": "markdown",
   "metadata": {},
   "source": [
    "a."
   ]
  },
  {
   "cell_type": "code",
   "execution_count": 29,
   "metadata": {},
   "outputs": [],
   "source": [
    "import numpy as np\n",
    "import pandas as pd\n",
    "import statsmodels.formula.api as smf\n",
    "\n",
    "data = pd.read_csv('data_exercise_3c.csv')"
   ]
  },
  {
   "cell_type": "markdown",
   "metadata": {},
   "source": [
    "b."
   ]
  },
  {
   "cell_type": "code",
   "execution_count": 30,
   "metadata": {},
   "outputs": [],
   "source": [
    "data['DATE'] = pd.to_datetime(data['DATE'])\n",
    "\n",
    "# Calculate simple return\n",
    "AAPL_sr = np.diff(data['AAPL_Adj_Close'])/data['AAPL_Adj_Close'][:-1]\n",
    "\n",
    "data['AAPL_sr'] = np.append(np.nan, AAPL_sr)\n",
    "\n",
    "# Calculate excess return\n",
    "data['AAPL_rp'] = data['AAPL_sr'] - data['RF']"
   ]
  },
  {
   "cell_type": "markdown",
   "metadata": {},
   "source": [
    "c."
   ]
  },
  {
   "cell_type": "code",
   "execution_count": 31,
   "metadata": {},
   "outputs": [
    {
     "name": "stdout",
     "output_type": "stream",
     "text": [
      "          AAPL_sr     AAPL_rp\n",
      "count  130.000000  130.000000\n",
      "mean     0.024280   -0.017643\n",
      "std      0.078486    0.102524\n",
      "min     -0.184045   -0.364045\n",
      "25%     -0.026441   -0.074593\n",
      "50%      0.027021   -0.011113\n",
      "75%      0.076592    0.060982\n",
      "max      0.214380    0.204380\n"
     ]
    }
   ],
   "source": [
    "results_sst = data.loc[:,'AAPL_sr':'AAPL_rp'].describe()\n",
    "print(results_sst)                                  "
   ]
  },
  {
   "cell_type": "markdown",
   "metadata": {},
   "source": [
    "d."
   ]
  },
  {
   "cell_type": "code",
   "execution_count": 32,
   "metadata": {},
   "outputs": [
    {
     "name": "stdout",
     "output_type": "stream",
     "text": [
      "result_capm.summary():\n",
      "                            OLS Regression Results                            \n",
      "==============================================================================\n",
      "Dep. Variable:                AAPL_rp   R-squared:                       0.239\n",
      "Model:                            OLS   Adj. R-squared:                  0.233\n",
      "Method:                 Least Squares   F-statistic:                     40.15\n",
      "Date:                Tue, 14 May 2024   Prob (F-statistic):           3.67e-09\n",
      "Time:                        01:21:14   Log-Likelihood:                 129.87\n",
      "No. Observations:                 130   AIC:                            -255.7\n",
      "Df Residuals:                     128   BIC:                            -250.0\n",
      "Df Model:                           1                                         \n",
      "Covariance Type:            nonrobust                                         \n",
      "==============================================================================\n",
      "                 coef    std err          t      P>|t|      [0.025      0.975]\n",
      "------------------------------------------------------------------------------\n",
      "Intercept     -0.0310      0.008     -3.801      0.000      -0.047      -0.015\n",
      "Mkt_RF         0.0122      0.002      6.336      0.000       0.008       0.016\n",
      "==============================================================================\n",
      "Omnibus:                       15.494   Durbin-Watson:                   1.015\n",
      "Prob(Omnibus):                  0.000   Jarque-Bera (JB):               18.915\n",
      "Skew:                          -0.712   Prob(JB):                     7.81e-05\n",
      "Kurtosis:                       4.210   Cond. No.                         4.41\n",
      "==============================================================================\n",
      "\n",
      "Notes:\n",
      "[1] Standard Errors assume that the covariance matrix of the errors is correctly specified.\n",
      "\n"
     ]
    }
   ],
   "source": [
    "data = data.drop(data.index[0]) \n",
    "\n",
    "capm = smf.ols(formula = 'AAPL_rp ~ Mkt_RF', data = data)\n",
    "result_capm = capm.fit()\n",
    "print(f'result_capm.summary():\\n{result_capm.summary()}\\n')"
   ]
  },
  {
   "cell_type": "markdown",
   "metadata": {},
   "source": [
    "$\\alpha =  -0.0310$\n",
    "\n",
    "$\\beta_{MKT} = 0.0122$"
   ]
  },
  {
   "cell_type": "markdown",
   "metadata": {},
   "source": [
    "e."
   ]
  },
  {
   "cell_type": "code",
   "execution_count": 33,
   "metadata": {},
   "outputs": [
    {
     "name": "stdout",
     "output_type": "stream",
     "text": [
      "result_ff3.summary():\n",
      "                            OLS Regression Results                            \n",
      "==============================================================================\n",
      "Dep. Variable:                AAPL_rp   R-squared:                       0.255\n",
      "Model:                            OLS   Adj. R-squared:                  0.237\n",
      "Method:                 Least Squares   F-statistic:                     14.37\n",
      "Date:                Tue, 14 May 2024   Prob (F-statistic):           4.13e-08\n",
      "Time:                        01:21:14   Log-Likelihood:                 131.26\n",
      "No. Observations:                 130   AIC:                            -254.5\n",
      "Df Residuals:                     126   BIC:                            -243.1\n",
      "Df Model:                           3                                         \n",
      "Covariance Type:            nonrobust                                         \n",
      "==============================================================================\n",
      "                 coef    std err          t      P>|t|      [0.025      0.975]\n",
      "------------------------------------------------------------------------------\n",
      "Intercept     -0.0329      0.008     -4.008      0.000      -0.049      -0.017\n",
      "Mkt_RF         0.0134      0.002      6.458      0.000       0.009       0.018\n",
      "SMB           -0.0047      0.003     -1.377      0.171      -0.011       0.002\n",
      "HML           -0.0013      0.003     -0.490      0.625      -0.006       0.004\n",
      "==============================================================================\n",
      "Omnibus:                       18.784   Durbin-Watson:                   0.959\n",
      "Prob(Omnibus):                  0.000   Jarque-Bera (JB):               24.644\n",
      "Skew:                          -0.802   Prob(JB):                     4.45e-06\n",
      "Kurtosis:                       4.406   Cond. No.                         4.65\n",
      "==============================================================================\n",
      "\n",
      "Notes:\n",
      "[1] Standard Errors assume that the covariance matrix of the errors is correctly specified.\n",
      "\n"
     ]
    }
   ],
   "source": [
    "ff3 = smf.ols(formula = 'AAPL_rp ~ Mkt_RF + SMB + HML', data = data)\n",
    "result_ff3 = ff3.fit()\n",
    "print(f'result_ff3.summary():\\n{result_ff3.summary()}\\n')  "
   ]
  },
  {
   "cell_type": "markdown",
   "metadata": {},
   "source": [
    "$\\alpha =  -0.0329$\n",
    "\n",
    "$\\beta_{MKT} = 0.0134$\n",
    "\n",
    "$\\beta_{SMB} = -0.0047$\n",
    "\n",
    "$\\beta_{HML} = -0.0013$"
   ]
  },
  {
   "cell_type": "markdown",
   "metadata": {},
   "source": [
    "f."
   ]
  },
  {
   "cell_type": "code",
   "execution_count": 34,
   "metadata": {},
   "outputs": [
    {
     "name": "stdout",
     "output_type": "stream",
     "text": [
      "result_ff5.summary():\n",
      "                            OLS Regression Results                            \n",
      "==============================================================================\n",
      "Dep. Variable:                AAPL_rp   R-squared:                       0.307\n",
      "Model:                            OLS   Adj. R-squared:                  0.279\n",
      "Method:                 Least Squares   F-statistic:                     10.98\n",
      "Date:                Tue, 14 May 2024   Prob (F-statistic):           9.20e-09\n",
      "Time:                        01:21:15   Log-Likelihood:                 135.96\n",
      "No. Observations:                 130   AIC:                            -259.9\n",
      "Df Residuals:                     124   BIC:                            -242.7\n",
      "Df Model:                           5                                         \n",
      "Covariance Type:            nonrobust                                         \n",
      "==============================================================================\n",
      "                 coef    std err          t      P>|t|      [0.025      0.975]\n",
      "------------------------------------------------------------------------------\n",
      "Intercept     -0.0348      0.008     -4.300      0.000      -0.051      -0.019\n",
      "Mkt_RF         0.0122      0.002      5.724      0.000       0.008       0.016\n",
      "SMB            0.0006      0.004      0.160      0.873      -0.007       0.008\n",
      "HML           -0.0018      0.003     -0.562      0.575      -0.008       0.005\n",
      "RMW            0.0140      0.005      3.011      0.003       0.005       0.023\n",
      "CMA           -0.0034      0.006     -0.606      0.545      -0.015       0.008\n",
      "==============================================================================\n",
      "Omnibus:                       16.992   Durbin-Watson:                   0.951\n",
      "Prob(Omnibus):                  0.000   Jarque-Bera (JB):               21.040\n",
      "Skew:                          -0.766   Prob(JB):                     2.70e-05\n",
      "Kurtosis:                       4.239   Cond. No.                         4.78\n",
      "==============================================================================\n",
      "\n",
      "Notes:\n",
      "[1] Standard Errors assume that the covariance matrix of the errors is correctly specified.\n",
      "\n"
     ]
    }
   ],
   "source": [
    "ff5 = smf.ols(formula = 'AAPL_rp ~ Mkt_RF + SMB + HML + RMW + CMA', data = data) \n",
    "result_ff5 = ff5.fit()\n",
    "print(f'result_ff5.summary():\\n{result_ff5.summary()}\\n')    "
   ]
  },
  {
   "cell_type": "markdown",
   "metadata": {},
   "source": [
    "$\\alpha =  -0.0348$\n",
    "\n",
    "$\\beta_{MKT} = 0.0122$\n",
    "\n",
    "$\\beta_{SMB} = 0.0006$\n",
    "\n",
    "$\\beta_{HML} = -0.0018$\n",
    "\n",
    "$\\beta_{RMW} = 0.0140$\n",
    "\n",
    "$\\beta_{CMA} = -0.0034$"
   ]
  },
  {
   "cell_type": "markdown",
   "metadata": {},
   "source": [
    "g."
   ]
  },
  {
   "cell_type": "code",
   "execution_count": 35,
   "metadata": {},
   "outputs": [
    {
     "name": "stdout",
     "output_type": "stream",
     "text": [
      "result_ff6.summary():\n",
      "                            OLS Regression Results                            \n",
      "==============================================================================\n",
      "Dep. Variable:                AAPL_rp   R-squared:                       0.312\n",
      "Model:                            OLS   Adj. R-squared:                  0.279\n",
      "Method:                 Least Squares   F-statistic:                     9.309\n",
      "Date:                Tue, 14 May 2024   Prob (F-statistic):           2.08e-08\n",
      "Time:                        01:21:15   Log-Likelihood:                 136.47\n",
      "No. Observations:                 130   AIC:                            -258.9\n",
      "Df Residuals:                     123   BIC:                            -238.9\n",
      "Df Model:                           6                                         \n",
      "Covariance Type:            nonrobust                                         \n",
      "==============================================================================\n",
      "                 coef    std err          t      P>|t|      [0.025      0.975]\n",
      "------------------------------------------------------------------------------\n",
      "Intercept     -0.0358      0.008     -4.391      0.000      -0.052      -0.020\n",
      "Mkt_RF         0.0128      0.002      5.771      0.000       0.008       0.017\n",
      "SMB            0.0012      0.004      0.314      0.754      -0.006       0.009\n",
      "HML           -0.0005      0.004     -0.156      0.876      -0.008       0.006\n",
      "RMW            0.0146      0.005      3.117      0.002       0.005       0.024\n",
      "CMA           -0.0037      0.006     -0.651      0.516      -0.015       0.008\n",
      "MOM            0.0027      0.003      0.989      0.325      -0.003       0.008\n",
      "==============================================================================\n",
      "Omnibus:                       15.389   Durbin-Watson:                   0.958\n",
      "Prob(Omnibus):                  0.000   Jarque-Bera (JB):               18.536\n",
      "Skew:                          -0.716   Prob(JB):                     9.44e-05\n",
      "Kurtosis:                       4.170   Cond. No.                         5.32\n",
      "==============================================================================\n",
      "\n",
      "Notes:\n",
      "[1] Standard Errors assume that the covariance matrix of the errors is correctly specified.\n",
      "\n"
     ]
    }
   ],
   "source": [
    "ff6 = smf.ols(formula = 'AAPL_rp ~ Mkt_RF + SMB + HML + RMW + CMA + MOM', data = data)\n",
    "result_ff6 = ff6.fit()\n",
    "print(f'result_ff6.summary():\\n{result_ff6.summary()}\\n')"
   ]
  },
  {
   "cell_type": "markdown",
   "metadata": {},
   "source": [
    "$\\alpha =  -0.0358$\n",
    "\n",
    "$\\beta_{MKT} = 0.0128$\n",
    "\n",
    "$\\beta_{SMB} = 0.0012$\n",
    "\n",
    "$\\beta_{HML} = -0.005$\n",
    "\n",
    "$\\beta_{RMW} = 0.0146$\n",
    "\n",
    "$\\beta_{CMA} = -0.0037$\n",
    "\n",
    "$\\beta_{MOM} = 0.0027$"
   ]
  },
  {
   "cell_type": "markdown",
   "metadata": {},
   "source": [
    "h."
   ]
  },
  {
   "cell_type": "code",
   "execution_count": 36,
   "metadata": {},
   "outputs": [
    {
     "name": "stdout",
     "output_type": "stream",
     "text": [
      "CAPM Alpha : -0.031\n",
      "FF3 Alpha : -0.0329\n",
      "FF5 Alpha : -0.0348\n",
      "FF6 Alpha : -0.0358\n"
     ]
    }
   ],
   "source": [
    "capm_alpha = round(result_capm.params['Intercept'], 4)\n",
    "ff3_alpha = round(result_ff3.params['Intercept'], 4)\n",
    "ff5_alpha = round(result_ff5.params['Intercept'],4)\n",
    "ff6_alpha = round(result_ff6.params['Intercept'], 4)\n",
    "\n",
    "print('CAPM Alpha :',capm_alpha)\n",
    "print('FF3 Alpha :',ff3_alpha)\n",
    "print('FF5 Alpha :',ff5_alpha)\n",
    "print('FF6 Alpha :',ff6_alpha)"
   ]
  },
  {
   "cell_type": "markdown",
   "metadata": {},
   "source": [
    "因子數越多$\\alpha$越低，有可能是$\\alpha$被其他因子解釋造成$\\alpha$降低"
   ]
  },
  {
   "cell_type": "markdown",
   "metadata": {},
   "source": [
    "### Q2"
   ]
  },
  {
   "cell_type": "markdown",
   "metadata": {},
   "source": [
    "a."
   ]
  },
  {
   "cell_type": "code",
   "execution_count": 37,
   "metadata": {},
   "outputs": [
    {
     "name": "stdout",
     "output_type": "stream",
     "text": [
      "Intercept    53.6872\n",
      "educ          3.5338\n",
      "dtype: float64\n"
     ]
    }
   ],
   "source": [
    "import wooldridge as woo\n",
    "import numpy as np\n",
    "import statsmodels.formula.api as smf\n",
    "\n",
    "wage2 = woo.data('WAGE2')\n",
    "\n",
    "reg_IQ = smf.ols(formula = 'IQ ~ educ', data = wage2)\n",
    "results_IQ = reg_IQ.fit()\n",
    "delta_educ_hat = results_IQ.params['educ']\n",
    "\n",
    "print(round(results_IQ.params, 4))"
   ]
  },
  {
   "cell_type": "markdown",
   "metadata": {},
   "source": [
    "b."
   ]
  },
  {
   "cell_type": "code",
   "execution_count": 38,
   "metadata": {},
   "outputs": [
    {
     "name": "stdout",
     "output_type": "stream",
     "text": [
      "Intercept    5.9731\n",
      "educ         0.0598\n",
      "dtype: float64\n"
     ]
    }
   ],
   "source": [
    "reg1 = smf.ols(formula = 'np.log(wage) ~ educ', data = wage2)\n",
    "results1 = reg1.fit()\n",
    "beta_educ_tilde = results1.params['educ']\n",
    "\n",
    "print(round(results1.params, 4))"
   ]
  },
  {
   "cell_type": "markdown",
   "metadata": {},
   "source": [
    "c."
   ]
  },
  {
   "cell_type": "code",
   "execution_count": 39,
   "metadata": {},
   "outputs": [
    {
     "name": "stdout",
     "output_type": "stream",
     "text": [
      "Intercept    5.658288\n",
      "educ         0.039120\n",
      "IQ           0.005863\n",
      "dtype: float64\n"
     ]
    }
   ],
   "source": [
    "reg = smf.ols(formula = 'np.log(wage) ~ educ + IQ', data = wage2)  \n",
    "results = reg.fit()\n",
    "beta_hat = results.params\n",
    "\n",
    "print(beta_hat)"
   ]
  },
  {
   "cell_type": "markdown",
   "metadata": {},
   "source": [
    "d."
   ]
  },
  {
   "cell_type": "code",
   "execution_count": 40,
   "metadata": {},
   "outputs": [
    {
     "name": "stdout",
     "output_type": "stream",
     "text": [
      "Value by regression: 0.05983920788637073\n",
      "Value by equation : 0.0598\n"
     ]
    }
   ],
   "source": [
    "print('Value by regression:',beta_educ_tilde)\n",
    "beta_educ_tilde1 = beta_hat['educ']+beta_hat['IQ']*delta_educ_hat\n",
    "print('Value by equation :',round(beta_educ_tilde1, 4))"
   ]
  },
  {
   "cell_type": "markdown",
   "metadata": {},
   "source": [
    "e."
   ]
  },
  {
   "cell_type": "code",
   "execution_count": 41,
   "metadata": {},
   "outputs": [
    {
     "name": "stdout",
     "output_type": "stream",
     "text": [
      "Value by regression: 5.973062450264955\n",
      "Value by equation : 5.9731\n"
     ]
    }
   ],
   "source": [
    "delta_int_hat = results_IQ.params['Intercept']\n",
    "beta_int_tilde = results1.params['Intercept']\n",
    "print('Value by regression:',beta_int_tilde)\n",
    "\n",
    "beta_int_tilde1 = results.params['Intercept'] + results.params['IQ']*delta_int_hat\n",
    "print('Value by equation :',round(beta_int_tilde1, 4))"
   ]
  },
  {
   "cell_type": "markdown",
   "metadata": {},
   "source": [
    "### Q3"
   ]
  },
  {
   "cell_type": "code",
   "execution_count": 42,
   "metadata": {},
   "outputs": [
    {
     "name": "stdout",
     "output_type": "stream",
     "text": [
      "beta_educ_hat: \n",
      "0.092\n",
      "beta_educ_hat1: \n",
      "0.092\n",
      "beta_int_hat: \n",
      "0.2844\n",
      "beta_int_hat1: \n",
      "-1.3861\n"
     ]
    }
   ],
   "source": [
    "import statsmodels.api as sm\n",
    "import numpy as np\n",
    "import statsmodels.formula.api as smf\n",
    "\n",
    "# Redo the OLS estimation\n",
    "wage1 = woo.data('wage1')\n",
    "\n",
    "reg = smf.ols(formula='np.log(wage) ~ educ + exper + tenure', data = wage1)\n",
    "results = reg.fit()\n",
    "beta_educ_hat = results.params['educ']\n",
    "beta_educ_hat = round(beta_educ_hat, 4)\n",
    "\n",
    "print(f'beta_educ_hat: \\n{beta_educ_hat}')\n",
    "\n",
    "# The first step: regress educ on exper and tenure with the OLS \n",
    "# and save the residuals\n",
    "reg_educ = smf.ols(formula='educ ~ exper + tenure', data = wage1)\n",
    "results_educ = reg_educ.fit()\n",
    "wage1['resid_educ'] = results_educ.resid\n",
    "\n",
    "# The second step: regress log(wage) on resid_educ with the OLS \n",
    "# and obtain the estimated slop parameter\n",
    "reg1 = smf.ols(formula='np.log(wage) ~ resid_educ', data = wage1)\n",
    "results1 = reg1.fit()\n",
    "beta_educ_hat1 = results1.params['resid_educ']\n",
    "beta_educ_hat1 = round(beta_educ_hat1, 4)\n",
    "\n",
    "print(f'beta_educ_hat1: \\n{beta_educ_hat1}')          \n",
    "\n",
    "# Is this result applied to the estimated intercept?\n",
    "# The first step: regress a vector of ones on educ, exper and tenure with the OLS \n",
    "# and save the residuals\n",
    "# note that NO INTERCEPT HERE!\n",
    "wage1['ones'] = 1                       # add a vector of ones into the data set\n",
    "reg_int = smf.ols(formula='ones ~ educ + exper + tenure -1', data = wage1)              \n",
    "results_int = reg_int.fit()                 \n",
    "wage1['resid_int'] = results_int.resid\n",
    "\n",
    "# The second step: regress y on resid_educ with the OLS \n",
    "# and obtain the estimated slop parameter\n",
    "reg_int1 = smf.ols(formula='np.log(wage) ~ resid_int', data = wage1)\n",
    "results_int1 = reg_int1.fit()\n",
    "beta_int_hat1 = results_int1.params['resid_int']\n",
    "beta_int_hat1 = round(beta_int_hat1, 4)\n",
    "\n",
    "# The OLS intercept from original regression\n",
    "beta_int_hat = results.params['Intercept']\n",
    "beta_int_hat = round(beta_int_hat, 4)\n",
    "\n",
    "print(f'beta_int_hat: \\n{beta_int_hat}')\n",
    "print(f'beta_int_hat1: \\n{beta_int_hat1}')"
   ]
  },
  {
   "cell_type": "markdown",
   "metadata": {},
   "source": [
    "$\\hat{r_1}$ and $\\beta_1$ is the same, but the result not applied to estimating the intercept term $\\beta_0$."
   ]
  }
 ],
 "metadata": {
  "kernelspec": {
   "display_name": "Python 3 (ipykernel)",
   "language": "python",
   "name": "python3"
  },
  "language_info": {
   "codemirror_mode": {
    "name": "ipython",
    "version": 3
   },
   "file_extension": ".py",
   "mimetype": "text/x-python",
   "name": "python",
   "nbconvert_exporter": "python",
   "pygments_lexer": "ipython3",
   "version": "3.9.2"
  }
 },
 "nbformat": 4,
 "nbformat_minor": 2
}
