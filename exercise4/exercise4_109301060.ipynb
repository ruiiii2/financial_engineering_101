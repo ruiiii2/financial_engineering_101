{
 "cells": [
  {
   "cell_type": "markdown",
   "metadata": {},
   "source": [
    "# **Exercises for Lecture 4**"
   ]
  },
  {
   "cell_type": "markdown",
   "metadata": {},
   "source": [
    "### 109301060 貿四乙 李叡"
   ]
  },
  {
   "cell_type": "markdown",
   "metadata": {},
   "source": [
    "### Q1"
   ]
  },
  {
   "cell_type": "markdown",
   "metadata": {},
   "source": [
    "a."
   ]
  },
  {
   "cell_type": "code",
   "execution_count": 1,
   "metadata": {},
   "outputs": [
    {
     "name": "stdout",
     "output_type": "stream",
     "text": [
      "0.94 0.9 0.92\n",
      "1.0 0.98 0.96\n"
     ]
    }
   ],
   "source": [
    "import statsmodels.formula.api as smf\n",
    "import scipy.stats as stats\n",
    "import pandas as pd\n",
    "import numpy as np\n",
    "\n",
    "## a. \n",
    "## Set sample size and number of iterations:\n",
    "n = 100                       ## sample size\n",
    "r = 50                      ## number of iteration  \n",
    "\n",
    "## Set true parameters\n",
    "beta0 = 0.4\n",
    "beta1 = -1.46\n",
    "beta2 = 2.5\n",
    "\n",
    "df = n - 2 - 1\n",
    "cv_005 = stats.t.ppf(1 - 0.05, df = df)                ## Critical value for 95% CI\n",
    "cv_001 = stats.t.ppf(1 - 0.01, df = df)            ## Critical value for 99% CI\n",
    "\n",
    "## Create empty vectors to store the simulation results\n",
    "beta0_result_005 = np.empty(r)                 \n",
    "beta1_result_005 = np.empty(r)\n",
    "beta2_result_005 = np.empty(r)\n",
    "\n",
    "beta0_result_001 = np.empty(r)\n",
    "beta1_result_001 = np.empty(r)\n",
    "beta2_result_001 = np.empty(r)\n",
    "\n",
    "## Set random seed\n",
    "np.random.seed(1234567)\n",
    "\n",
    "## Generate samples of x1 and x2\n",
    "x1 = stats.uniform.rvs(size = n)\n",
    "x2 = stats.norm.rvs(loc = 0.78, size = n)\n",
    "\n",
    "for i in range(r):\n",
    "    \n",
    "    u = np.random.normal(size = n)               ## Generate u\n",
    "    y = beta0 + beta1 * x1 + beta2 * x2 + u    ## Generate y\n",
    "    datax = pd.DataFrame({'y':y, 'x1':x1, 'x2':x2}) \n",
    "    \n",
    "    reg = smf.ols(formula = 'y ~ x1 + x2', data = datax)\n",
    "    results = reg.fit()\n",
    "    beta_hat = results.params\n",
    "    bse = results.bse\n",
    "    \n",
    "    ## Whether the true parameters lie in the 95% CI's?\n",
    "    beta0_result_005[i] = (beta0 >= (beta_hat['Intercept'] - cv_005*bse['Intercept'])) and (beta0 <= (beta_hat['Intercept'] + cv_005*bse['Intercept']))\n",
    "    beta1_result_005[i] = (beta1 >= (beta_hat['x1'] - cv_005*bse['x1'])) and (beta1 <= (beta_hat['x1'] + cv_005*bse['x1']))\n",
    "    beta2_result_005[i] = (beta2 >= (beta_hat['x2'] - cv_005*bse['x2'])) and (beta2 <= (beta_hat['x2'] + cv_005*bse['x2']))\n",
    "    \n",
    "    ## Whether the true parameters lie in the 99% CI's?\n",
    "    beta0_result_001[i] = (beta0 >= (beta_hat['Intercept'] - cv_001*bse['Intercept'])) and (beta0 <= (beta_hat['Intercept'] + cv_001*bse['Intercept']))\n",
    "    beta1_result_001[i] = (beta1 >= (beta_hat['x1'] - cv_001*bse['x1'])) and (beta1 <= (beta_hat['x1'] + cv_001*bse['x1'])) \n",
    "    beta2_result_001[i] = (beta2 >= (beta_hat['x2'] - cv_001*bse['x2'])) and (beta2 <= (beta_hat['x2'] + cv_001*bse['x2']))\n",
    "\n",
    "\n",
    "## Print out the results\n",
    "## Alpha = 0.05\n",
    "print(np.mean(beta0_result_005), np.mean(beta1_result_005), np.mean(beta2_result_005))\n",
    "## Alpha = 0.01\n",
    "print(np.mean(beta0_result_001), np.mean(beta1_result_001), np.mean(beta2_result_001))"
   ]
  },
  {
   "cell_type": "markdown",
   "metadata": {},
   "source": [
    "b."
   ]
  },
  {
   "cell_type": "code",
   "execution_count": 2,
   "metadata": {},
   "outputs": [
    {
     "name": "stdout",
     "output_type": "stream",
     "text": [
      "0.895 0.89 0.915\n",
      "1.0 0.975 0.97\n"
     ]
    }
   ],
   "source": [
    "import statsmodels.formula.api as smf\n",
    "import scipy.stats as stats\n",
    "import pandas as pd\n",
    "import numpy as np\n",
    "\n",
    "## a. \n",
    "## Set sample size and number of iterations:\n",
    "n = 100                       ## sample size\n",
    "r = 200                      ## number of iteration  \n",
    "\n",
    "## Set true parameters\n",
    "beta0 = 0.4\n",
    "beta1 = -1.46\n",
    "beta2 = 2.5\n",
    "\n",
    "df = n - 2 - 1\n",
    "cv_005 = stats.t.ppf(1 - 0.05, df = df)                ## Critical value for 95% CI\n",
    "cv_001 = stats.t.ppf(1 - 0.01, df = df)            ## Critical value for 99% CI\n",
    "\n",
    "## Create empty vectors to store the simulation results\n",
    "beta0_result_005 = np.empty(r)                 \n",
    "beta1_result_005 = np.empty(r)\n",
    "beta2_result_005 = np.empty(r)\n",
    "\n",
    "beta0_result_001 = np.empty(r)\n",
    "beta1_result_001 = np.empty(r)\n",
    "beta2_result_001 = np.empty(r)\n",
    "\n",
    "## Set random seed\n",
    "np.random.seed(1234567)\n",
    "\n",
    "## Generate samples of x1 and x2\n",
    "x1 = stats.uniform.rvs(size = n)\n",
    "x2 = stats.norm.rvs(loc = 0.78, size = n)\n",
    "\n",
    "for i in range(r):\n",
    "    \n",
    "    u = np.random.normal(size = n)               ## Generate u\n",
    "    y = beta0 + beta1 * x1 + beta2 * x2 + u    ## Generate y\n",
    "    datax = pd.DataFrame({'y':y, 'x1':x1, 'x2':x2}) \n",
    "    \n",
    "    reg = smf.ols(formula = 'y ~ x1 + x2', data = datax)\n",
    "    results = reg.fit()\n",
    "    beta_hat = results.params\n",
    "    bse = results.bse\n",
    "    \n",
    "    ## Whether the true parameters lie in the 95% CI's?\n",
    "    beta0_result_005[i] = (beta0 >= (beta_hat['Intercept'] - cv_005*bse['Intercept'])) and (beta0 <= (beta_hat['Intercept'] + cv_005*bse['Intercept']))\n",
    "    beta1_result_005[i] = (beta1 >= (beta_hat['x1'] - cv_005*bse['x1'])) and (beta1 <= (beta_hat['x1'] + cv_005*bse['x1']))\n",
    "    beta2_result_005[i] = (beta2 >= (beta_hat['x2'] - cv_005*bse['x2'])) and (beta2 <= (beta_hat['x2'] + cv_005*bse['x2']))\n",
    "    \n",
    "    ## Whether the true parameters lie in the 99% CI's?\n",
    "    beta0_result_001[i] = (beta0 >= (beta_hat['Intercept'] - cv_001*bse['Intercept'])) and (beta0 <= (beta_hat['Intercept'] + cv_001*bse['Intercept']))\n",
    "    beta1_result_001[i] = (beta1 >= (beta_hat['x1'] - cv_001*bse['x1'])) and (beta1 <= (beta_hat['x1'] + cv_001*bse['x1'])) \n",
    "    beta2_result_001[i] = (beta2 >= (beta_hat['x2'] - cv_001*bse['x2'])) and (beta2 <= (beta_hat['x2'] + cv_001*bse['x2']))\n",
    "\n",
    "\n",
    "## Print out the results\n",
    "## Alpha = 0.05\n",
    "print(np.mean(beta0_result_005), np.mean(beta1_result_005), np.mean(beta2_result_005))\n",
    "## Alpha = 0.01\n",
    "print(np.mean(beta0_result_001), np.mean(beta1_result_001), np.mean(beta2_result_001))"
   ]
  },
  {
   "cell_type": "markdown",
   "metadata": {},
   "source": [
    "c."
   ]
  },
  {
   "cell_type": "code",
   "execution_count": 3,
   "metadata": {},
   "outputs": [
    {
     "name": "stdout",
     "output_type": "stream",
     "text": [
      "0.883 0.879 0.899\n",
      "0.98 0.979 0.978\n"
     ]
    }
   ],
   "source": [
    "import statsmodels.formula.api as smf\n",
    "import scipy.stats as stats\n",
    "import pandas as pd\n",
    "import numpy as np\n",
    "\n",
    "## a. \n",
    "## Set sample size and number of iterations:\n",
    "n = 100                       ## sample size\n",
    "r = 1000                      ## number of iteration  \n",
    "\n",
    "## Set true parameters\n",
    "beta0 = 0.4\n",
    "beta1 = -1.46\n",
    "beta2 = 2.5\n",
    "\n",
    "df = n - 2 - 1\n",
    "cv_005 = stats.t.ppf(1 - 0.05, df = df)                ## Critical value for 95% CI\n",
    "cv_001 = stats.t.ppf(1 - 0.01, df = df)            ## Critical value for 99% CI\n",
    "\n",
    "## Create empty vectors to store the simulation results\n",
    "beta0_result_005 = np.empty(r)                 \n",
    "beta1_result_005 = np.empty(r)\n",
    "beta2_result_005 = np.empty(r)\n",
    "\n",
    "beta0_result_001 = np.empty(r)\n",
    "beta1_result_001 = np.empty(r)\n",
    "beta2_result_001 = np.empty(r)\n",
    "\n",
    "## Set random seed\n",
    "np.random.seed(1234567)\n",
    "\n",
    "## Generate samples of x1 and x2\n",
    "x1 = stats.uniform.rvs(size = n)\n",
    "x2 = stats.norm.rvs(loc = 0.78, size = n)\n",
    "\n",
    "for i in range(r):\n",
    "    \n",
    "    u = np.random.normal(size = n)               ## Generate u\n",
    "    y = beta0 + beta1 * x1 + beta2 * x2 + u    ## Generate y\n",
    "    datax = pd.DataFrame({'y':y, 'x1':x1, 'x2':x2}) \n",
    "    \n",
    "    reg = smf.ols(formula = 'y ~ x1 + x2', data = datax)\n",
    "    results = reg.fit()\n",
    "    beta_hat = results.params\n",
    "    bse = results.bse\n",
    "    \n",
    "    ## Whether the true parameters lie in the 95% CI's?\n",
    "    beta0_result_005[i] = (beta0 >= (beta_hat['Intercept'] - cv_005*bse['Intercept'])) and (beta0 <= (beta_hat['Intercept'] + cv_005*bse['Intercept']))\n",
    "    beta1_result_005[i] = (beta1 >= (beta_hat['x1'] - cv_005*bse['x1'])) and (beta1 <= (beta_hat['x1'] + cv_005*bse['x1']))\n",
    "    beta2_result_005[i] = (beta2 >= (beta_hat['x2'] - cv_005*bse['x2'])) and (beta2 <= (beta_hat['x2'] + cv_005*bse['x2']))\n",
    "    \n",
    "    ## Whether the true parameters lie in the 99% CI's?\n",
    "    beta0_result_001[i] = (beta0 >= (beta_hat['Intercept'] - cv_001*bse['Intercept'])) and (beta0 <= (beta_hat['Intercept'] + cv_001*bse['Intercept']))\n",
    "    beta1_result_001[i] = (beta1 >= (beta_hat['x1'] - cv_001*bse['x1'])) and (beta1 <= (beta_hat['x1'] + cv_001*bse['x1'])) \n",
    "    beta2_result_001[i] = (beta2 >= (beta_hat['x2'] - cv_001*bse['x2'])) and (beta2 <= (beta_hat['x2'] + cv_001*bse['x2']))\n",
    "\n",
    "\n",
    "## Print out the results\n",
    "## Alpha = 0.05\n",
    "print(np.mean(beta0_result_005), np.mean(beta1_result_005), np.mean(beta2_result_005))\n",
    "## Alpha = 0.01\n",
    "print(np.mean(beta0_result_001), np.mean(beta1_result_001), np.mean(beta2_result_001))"
   ]
  },
  {
   "cell_type": "markdown",
   "metadata": {},
   "source": [
    "### Q2"
   ]
  },
  {
   "cell_type": "markdown",
   "metadata": {},
   "source": [
    "a."
   ]
  },
  {
   "cell_type": "code",
   "execution_count": 4,
   "metadata": {},
   "outputs": [
    {
     "data": {
      "text/html": [
       "<div>\n",
       "<style scoped>\n",
       "    .dataframe tbody tr th:only-of-type {\n",
       "        vertical-align: middle;\n",
       "    }\n",
       "\n",
       "    .dataframe tbody tr th {\n",
       "        vertical-align: top;\n",
       "    }\n",
       "\n",
       "    .dataframe thead th {\n",
       "        text-align: right;\n",
       "    }\n",
       "</style>\n",
       "<table border=\"1\" class=\"dataframe\">\n",
       "  <thead>\n",
       "    <tr style=\"text-align: right;\">\n",
       "      <th></th>\n",
       "      <th>voteA</th>\n",
       "      <th>lexpendA</th>\n",
       "      <th>lexpendB</th>\n",
       "      <th>prtystrA</th>\n",
       "    </tr>\n",
       "  </thead>\n",
       "  <tbody>\n",
       "    <tr>\n",
       "      <th>count</th>\n",
       "      <td>173.000000</td>\n",
       "      <td>173.000000</td>\n",
       "      <td>173.000000</td>\n",
       "      <td>173.000000</td>\n",
       "    </tr>\n",
       "    <tr>\n",
       "      <th>mean</th>\n",
       "      <td>50.502890</td>\n",
       "      <td>5.025556</td>\n",
       "      <td>4.944369</td>\n",
       "      <td>49.757225</td>\n",
       "    </tr>\n",
       "    <tr>\n",
       "      <th>std</th>\n",
       "      <td>16.784761</td>\n",
       "      <td>1.601602</td>\n",
       "      <td>1.571143</td>\n",
       "      <td>9.983650</td>\n",
       "    </tr>\n",
       "    <tr>\n",
       "      <th>min</th>\n",
       "      <td>16.000000</td>\n",
       "      <td>-1.197328</td>\n",
       "      <td>-0.072571</td>\n",
       "      <td>22.000000</td>\n",
       "    </tr>\n",
       "    <tr>\n",
       "      <th>25%</th>\n",
       "      <td>36.000000</td>\n",
       "      <td>4.402246</td>\n",
       "      <td>4.095244</td>\n",
       "      <td>44.000000</td>\n",
       "    </tr>\n",
       "    <tr>\n",
       "      <th>50%</th>\n",
       "      <td>50.000000</td>\n",
       "      <td>5.492164</td>\n",
       "      <td>5.400558</td>\n",
       "      <td>50.000000</td>\n",
       "    </tr>\n",
       "    <tr>\n",
       "      <th>75%</th>\n",
       "      <td>65.000000</td>\n",
       "      <td>6.125580</td>\n",
       "      <td>6.110837</td>\n",
       "      <td>56.000000</td>\n",
       "    </tr>\n",
       "    <tr>\n",
       "      <th>max</th>\n",
       "      <td>84.000000</td>\n",
       "      <td>7.293476</td>\n",
       "      <td>7.344844</td>\n",
       "      <td>71.000000</td>\n",
       "    </tr>\n",
       "  </tbody>\n",
       "</table>\n",
       "</div>"
      ],
      "text/plain": [
       "            voteA    lexpendA    lexpendB    prtystrA\n",
       "count  173.000000  173.000000  173.000000  173.000000\n",
       "mean    50.502890    5.025556    4.944369   49.757225\n",
       "std     16.784761    1.601602    1.571143    9.983650\n",
       "min     16.000000   -1.197328   -0.072571   22.000000\n",
       "25%     36.000000    4.402246    4.095244   44.000000\n",
       "50%     50.000000    5.492164    5.400558   50.000000\n",
       "75%     65.000000    6.125580    6.110837   56.000000\n",
       "max     84.000000    7.293476    7.344844   71.000000"
      ]
     },
     "execution_count": 4,
     "metadata": {},
     "output_type": "execute_result"
    }
   ],
   "source": [
    "import wooldridge as woo\n",
    "import statsmodels.formula.api as smf\n",
    "import scipy.stats as stats\n",
    "import numpy as np\n",
    "\n",
    "## Import data\n",
    "vote1 = woo.data('vote1')\n",
    "\n",
    "## a. Descriptive statistics\n",
    "vote1[['voteA','lexpendA','lexpendB','prtystrA']].describe()"
   ]
  },
  {
   "cell_type": "markdown",
   "metadata": {},
   "source": [
    "b."
   ]
  },
  {
   "cell_type": "markdown",
   "metadata": {},
   "source": [
    "$\\beta_1$ is the percentage point increase in $voteA$ for a one unit increase in $lexpendA$, holding other variables constant."
   ]
  },
  {
   "cell_type": "markdown",
   "metadata": {},
   "source": [
    "c."
   ]
  },
  {
   "cell_type": "markdown",
   "metadata": {},
   "source": [
    "$H_0: \\beta_1 + \\beta_2 = 0$"
   ]
  },
  {
   "cell_type": "markdown",
   "metadata": {},
   "source": [
    "d."
   ]
  },
  {
   "cell_type": "code",
   "execution_count": 5,
   "metadata": {},
   "outputs": [
    {
     "name": "stdout",
     "output_type": "stream",
     "text": [
      "results.summary():\n",
      "                            OLS Regression Results                            \n",
      "==============================================================================\n",
      "Dep. Variable:                  voteA   R-squared:                       0.793\n",
      "Model:                            OLS   Adj. R-squared:                  0.789\n",
      "Method:                 Least Squares   F-statistic:                     215.2\n",
      "Date:                Tue, 04 Jun 2024   Prob (F-statistic):           1.76e-57\n",
      "Time:                        09:49:43   Log-Likelihood:                -596.86\n",
      "No. Observations:                 173   AIC:                             1202.\n",
      "Df Residuals:                     169   BIC:                             1214.\n",
      "Df Model:                           3                                         \n",
      "Covariance Type:            nonrobust                                         \n",
      "==============================================================================\n",
      "                 coef    std err          t      P>|t|      [0.025      0.975]\n",
      "------------------------------------------------------------------------------\n",
      "Intercept     45.0789      3.926     11.481      0.000      37.328      52.830\n",
      "lexpendA       6.0833      0.382     15.919      0.000       5.329       6.838\n",
      "lexpendB      -6.6154      0.379    -17.463      0.000      -7.363      -5.868\n",
      "prtystrA       0.1520      0.062      2.450      0.015       0.030       0.274\n",
      "==============================================================================\n",
      "Omnibus:                        8.900   Durbin-Watson:                   1.604\n",
      "Prob(Omnibus):                  0.012   Jarque-Bera (JB):                8.832\n",
      "Skew:                           0.493   Prob(JB):                       0.0121\n",
      "Kurtosis:                       3.505   Cond. No.                         344.\n",
      "==============================================================================\n",
      "\n",
      "Notes:\n",
      "[1] Standard Errors assume that the covariance matrix of the errors is correctly specified.\n",
      "\n"
     ]
    }
   ],
   "source": [
    "## d. Fit the regression \n",
    "reg = smf.ols(formula = 'voteA ~ lexpendA + lexpendB + prtystrA', data = vote1)\n",
    "results = reg.fit()\n",
    "\n",
    "print(f'results.summary():\\n{results.summary()}\\n')"
   ]
  },
  {
   "cell_type": "markdown",
   "metadata": {},
   "source": [
    "From the regression output, we cannot reject the null hypothesis that $\\beta_1 + \\beta_2 = 0$ at 5% significance level."
   ]
  },
  {
   "cell_type": "code",
   "execution_count": 6,
   "metadata": {},
   "outputs": [
    {
     "name": "stdout",
     "output_type": "stream",
     "text": [
      "fstat: 0.996\n",
      "\n",
      "fpval: 0.32\n",
      "\n"
     ]
    }
   ],
   "source": [
    "## Test H0: beta1 + beta 2 = 0 in b.\n",
    "## Use method f_test\n",
    "hypotheses = ['lexpendA + lexpendB = 0']\n",
    "ftest = results.f_test(hypotheses)\n",
    "fstat = ftest.fvalue                  ## Extract the F statistic\n",
    "fpval = ftest.pvalue                      ## Extract the p-value\n",
    "\n",
    "print(f'fstat: {round(fstat, 3)}\\n')\n",
    "print(f'fpval: {round(fpval, 3)}\\n')"
   ]
  },
  {
   "cell_type": "markdown",
   "metadata": {},
   "source": [
    "The p-value is larger than 0.05, so we cannot reject the null hypothesis at 5% significance level."
   ]
  },
  {
   "cell_type": "markdown",
   "metadata": {},
   "source": [
    "e."
   ]
  },
  {
   "cell_type": "code",
   "execution_count": 7,
   "metadata": {},
   "outputs": [
    {
     "name": "stdout",
     "output_type": "stream",
     "text": [
      "results_mod.summary():\n",
      "                            OLS Regression Results                            \n",
      "==============================================================================\n",
      "Dep. Variable:                  voteA   R-squared:                       0.791\n",
      "Model:                            OLS   Adj. R-squared:                  0.789\n",
      "Method:                 Least Squares   F-statistic:                     322.3\n",
      "Date:                Tue, 04 Jun 2024   Prob (F-statistic):           1.42e-58\n",
      "Time:                        09:49:43   Log-Likelihood:                -597.37\n",
      "No. Observations:                 173   AIC:                             1201.\n",
      "Df Residuals:                     170   BIC:                             1210.\n",
      "Df Model:                           2                                         \n",
      "Covariance Type:            nonrobust                                         \n",
      "==============================================================================\n",
      "                 coef    std err          t      P>|t|      [0.025      0.975]\n",
      "------------------------------------------------------------------------------\n",
      "Intercept     42.7028      3.122     13.677      0.000      36.539      48.866\n",
      "lB_lA         -6.3517      0.272    -23.394      0.000      -6.888      -5.816\n",
      "prtystrA       0.1464      0.062      2.370      0.019       0.024       0.268\n",
      "==============================================================================\n",
      "Omnibus:                       11.793   Durbin-Watson:                   1.599\n",
      "Prob(Omnibus):                  0.003   Jarque-Bera (JB):               12.607\n",
      "Skew:                           0.554   Prob(JB):                      0.00183\n",
      "Kurtosis:                       3.721   Cond. No.                         270.\n",
      "==============================================================================\n",
      "\n",
      "Notes:\n",
      "[1] Standard Errors assume that the covariance matrix of the errors is correctly specified.\n",
      "\n",
      "547.2726 0.9963\n"
     ]
    }
   ],
   "source": [
    "## e. Estimate a modified model: \n",
    "vote1['lB_lA'] = vote1['lexpendB'] - vote1['lexpendA']\n",
    "reg_mod = smf.ols(formula = 'voteA ~ lB_lA + prtystrA', data = vote1)\n",
    "results_mod = reg_mod.fit()\n",
    "print(f'results_mod.summary():\\n{results_mod.summary()}\\n')\n",
    "\n",
    "## From the result, p-value of the t statistic (coefficient of lexpendA) is also about 0.32 and we cannnot reject the null\n",
    "## at 5% significant level. We do not have enough evidence to say that there is no offset effect.\n",
    "\n",
    "## Verify whether t^2 = F\n",
    "tvalues = results_mod.tvalues\n",
    "tvalues_sq = tvalues['lB_lA']**2\n",
    "print(round(tvalues_sq,4), round(fstat,4))"
   ]
  },
  {
   "cell_type": "markdown",
   "metadata": {},
   "source": [
    "f."
   ]
  },
  {
   "cell_type": "code",
   "execution_count": 10,
   "metadata": {},
   "outputs": [
    {
     "name": "stdout",
     "output_type": "stream",
     "text": [
      "fstat: 14.531\n",
      "\n",
      "fpval: 0.0\n",
      "\n",
      "results_mod.summary():\n",
      "                            OLS Regression Results                            \n",
      "==============================================================================\n",
      "Dep. Variable:                  voteA   R-squared:                       0.791\n",
      "Model:                            OLS   Adj. R-squared:                  0.789\n",
      "Method:                 Least Squares   F-statistic:                     322.3\n",
      "Date:                Tue, 04 Jun 2024   Prob (F-statistic):           1.42e-58\n",
      "Time:                        09:50:42   Log-Likelihood:                -597.37\n",
      "No. Observations:                 173   AIC:                             1201.\n",
      "Df Residuals:                     170   BIC:                             1210.\n",
      "Df Model:                           2                                         \n",
      "Covariance Type:            nonrobust                                         \n",
      "==============================================================================\n",
      "                 coef    std err          t      P>|t|      [0.025      0.975]\n",
      "------------------------------------------------------------------------------\n",
      "Intercept     42.7028      3.122     13.677      0.000      36.539      48.866\n",
      "lA_lB          6.3517      0.272     23.394      0.000       5.816       6.888\n",
      "prtystrA       0.1464      0.062      2.370      0.019       0.024       0.268\n",
      "==============================================================================\n",
      "Omnibus:                       11.793   Durbin-Watson:                   1.599\n",
      "Prob(Omnibus):                  0.003   Jarque-Bera (JB):               12.607\n",
      "Skew:                           0.554   Prob(JB):                      0.00183\n",
      "Kurtosis:                       3.721   Cond. No.                         270.\n",
      "==============================================================================\n",
      "\n",
      "Notes:\n",
      "[1] Standard Errors assume that the covariance matrix of the errors is correctly specified.\n",
      "\n",
      "tstat: 17.869\n",
      "\n",
      "tpval: 0.0\n",
      "\n",
      "tstat: 17.869\n",
      "\n",
      "tpval: 0.0\n",
      "\n"
     ]
    }
   ],
   "source": [
    "## f. Test H0: beta1 + beta2 = 1.5\n",
    "## Use the method f_test\n",
    "hypotheses = ['lexpendA + lexpendB = 1.5']\n",
    "ftest = results.f_test(hypotheses)\n",
    "fstat = ftest.fvalue\n",
    "fpval = ftest.pvalue\n",
    "\n",
    "print(f'fstat: {round(fstat, 3)}\\n')\n",
    "print(f'fpval: {round(fpval, 3)}\\n')\n",
    "\n",
    "## Estimate a modified model\n",
    "vote1['lA_lB'] = vote1['lexpendA'] - vote1['lexpendB']\n",
    "reg_mod = smf.ols(formula = 'voteA ~ lA_lB + prtystrA', data = vote1)\n",
    "results_mod = reg_mod.fit()\n",
    "print(f'results_mod.summary():\\n{results_mod.summary()}\\n')\n",
    "\n",
    "## Manually calculate t statistic\n",
    "n = vote1.shape[0]\n",
    "k = 3\n",
    "df = n - k - 1\n",
    "b_lexpendA = results_mod.params['lA_lB']\n",
    "se_lexpendA = results_mod.bse['lA_lB']\n",
    "tstat = round((b_lexpendA - 1.5) / se_lexpendA, 3)\n",
    "tpval = 2*stats.t.cdf(-abs(tstat), df = df)\n",
    "\n",
    "print(f'tstat: {round(tstat, 3)}\\n')\n",
    "print(f'tpval: {round(tpval, 3)}\\n')                  ## should be the same value as fpval\n",
    "\n",
    "## Use method t_test\n",
    "hypothesis = 'lA_lB = 1.5'\n",
    "ttest = results_mod.t_test(hypothesis)\n",
    "tstat = ttest.statistic[0][0] \n",
    "tpval = ttest.pvalue\n",
    "\n",
    "print(f'tstat: {round(tstat, 3)}\\n')\n",
    "print(f'tpval: {np.around(tpval, 3)}\\n')                  ## should be the same value as fpval"
   ]
  },
  {
   "cell_type": "markdown",
   "metadata": {},
   "source": [
    "### Q3"
   ]
  },
  {
   "cell_type": "markdown",
   "metadata": {},
   "source": [
    "a."
   ]
  },
  {
   "cell_type": "code",
   "execution_count": null,
   "metadata": {},
   "outputs": [
    {
     "data": {
      "text/html": [
       "<div>\n",
       "<style scoped>\n",
       "    .dataframe tbody tr th:only-of-type {\n",
       "        vertical-align: middle;\n",
       "    }\n",
       "\n",
       "    .dataframe tbody tr th {\n",
       "        vertical-align: top;\n",
       "    }\n",
       "\n",
       "    .dataframe thead th {\n",
       "        text-align: right;\n",
       "    }\n",
       "</style>\n",
       "<table border=\"1\" class=\"dataframe\">\n",
       "  <thead>\n",
       "    <tr style=\"text-align: right;\">\n",
       "      <th></th>\n",
       "      <th>price</th>\n",
       "      <th>sqrft</th>\n",
       "      <th>bdrms</th>\n",
       "    </tr>\n",
       "  </thead>\n",
       "  <tbody>\n",
       "    <tr>\n",
       "      <th>count</th>\n",
       "      <td>88.000000</td>\n",
       "      <td>88.000000</td>\n",
       "      <td>88.000000</td>\n",
       "    </tr>\n",
       "    <tr>\n",
       "      <th>mean</th>\n",
       "      <td>293.546034</td>\n",
       "      <td>2013.693182</td>\n",
       "      <td>3.568182</td>\n",
       "    </tr>\n",
       "    <tr>\n",
       "      <th>std</th>\n",
       "      <td>102.713445</td>\n",
       "      <td>577.191583</td>\n",
       "      <td>0.841393</td>\n",
       "    </tr>\n",
       "    <tr>\n",
       "      <th>min</th>\n",
       "      <td>111.000000</td>\n",
       "      <td>1171.000000</td>\n",
       "      <td>2.000000</td>\n",
       "    </tr>\n",
       "    <tr>\n",
       "      <th>25%</th>\n",
       "      <td>230.000000</td>\n",
       "      <td>1660.500000</td>\n",
       "      <td>3.000000</td>\n",
       "    </tr>\n",
       "    <tr>\n",
       "      <th>50%</th>\n",
       "      <td>265.500000</td>\n",
       "      <td>1845.000000</td>\n",
       "      <td>3.000000</td>\n",
       "    </tr>\n",
       "    <tr>\n",
       "      <th>75%</th>\n",
       "      <td>326.250000</td>\n",
       "      <td>2227.000000</td>\n",
       "      <td>4.000000</td>\n",
       "    </tr>\n",
       "    <tr>\n",
       "      <th>max</th>\n",
       "      <td>725.000000</td>\n",
       "      <td>3880.000000</td>\n",
       "      <td>7.000000</td>\n",
       "    </tr>\n",
       "  </tbody>\n",
       "</table>\n",
       "</div>"
      ],
      "text/plain": [
       "            price        sqrft      bdrms\n",
       "count   88.000000    88.000000  88.000000\n",
       "mean   293.546034  2013.693182   3.568182\n",
       "std    102.713445   577.191583   0.841393\n",
       "min    111.000000  1171.000000   2.000000\n",
       "25%    230.000000  1660.500000   3.000000\n",
       "50%    265.500000  1845.000000   3.000000\n",
       "75%    326.250000  2227.000000   4.000000\n",
       "max    725.000000  3880.000000   7.000000"
      ]
     },
     "execution_count": 47,
     "metadata": {},
     "output_type": "execute_result"
    }
   ],
   "source": [
    "import wooldridge as woo\n",
    "import numpy as np\n",
    "import statsmodels.formula.api as smf\n",
    "import scipy.stats as stats\n",
    "\n",
    "## Import data\n",
    "hprice1 = woo.data('hprice1')\n",
    "\n",
    "## a. Descriptive statistics\n",
    "hprice1[['price','sqrft','bdrms']].describe()"
   ]
  },
  {
   "cell_type": "markdown",
   "metadata": {},
   "source": [
    "b."
   ]
  },
  {
   "cell_type": "code",
   "execution_count": null,
   "metadata": {},
   "outputs": [
    {
     "name": "stdout",
     "output_type": "stream",
     "text": [
      "Percentage change:\n",
      "8.58%\n",
      "\n"
     ]
    }
   ],
   "source": [
    "## b. Fit the regression\n",
    "reg = smf.ols(formula = 'np.log(price) ~ sqrft + bdrms', data = hprice1)\n",
    "results = reg.fit()\n",
    "\n",
    "## Estimate theta1: 150 sqrft bed room added\n",
    "theta1 = 150*results.params['sqrft'] + results.params['bdrms']\n",
    "theta1 = round(theta1, 4)\n",
    "print(f'Percentage change:\\n{theta1*100}%\\n')"
   ]
  },
  {
   "cell_type": "markdown",
   "metadata": {},
   "source": [
    "c."
   ]
  },
  {
   "cell_type": "code",
   "execution_count": null,
   "metadata": {},
   "outputs": [
    {
     "name": "stdout",
     "output_type": "stream",
     "text": [
      "0.0268\n"
     ]
    }
   ],
   "source": [
    "## c. \n",
    "## Calculate standard error of theta1 and construct CI's\n",
    "hprice1['new_var'] = hprice1['sqrft'] - 150*hprice1['bdrms']\n",
    "reg_mod = smf.ols(formula = 'np.log(price) ~ new_var + bdrms', data = hprice1)\n",
    "results_mod = reg_mod.fit()\n",
    "print(round(results_mod.bse['bdrms'],4))"
   ]
  },
  {
   "cell_type": "markdown",
   "metadata": {},
   "source": [
    "standard error of the percentage change in b is 0.0268"
   ]
  },
  {
   "cell_type": "code",
   "execution_count": null,
   "metadata": {},
   "outputs": [
    {
     "name": "stdout",
     "output_type": "stream",
     "text": [
      "ci_005:\n",
      "[0.033, 0.139]\n",
      "\n",
      "ci_001:\n",
      "[0.015, 0.156]\n",
      "\n"
     ]
    }
   ],
   "source": [
    "## Now the slope parameters of bdrms is theta1\n",
    "bse = results_mod.bse['bdrms']\n",
    "n = hprice1.shape[0]\n",
    "k = 2\n",
    "df = n - k - 1\n",
    "cv_005 = stats.t.ppf(1 - 0.025, df = df)          ## Critical value for 95% CI\n",
    "cv_001 = stats.t.ppf(1 - 0.005, df = df)          ## Critical value for 99% CI \n",
    "\n",
    "ci_005_up = theta1 + cv_005*bse\n",
    "ci_005_low = theta1 - cv_005*bse\n",
    "ci_005 = [round(ci_005_low, 3), round(ci_005_up, 3)]\n",
    "print(f'ci_005:\\n{ci_005}\\n')                     ## 95% CI for theta1\n",
    "\n",
    "ci_001_up = theta1 + cv_001*bse  \n",
    "ci_001_low = theta1 - cv_001*bse\n",
    "ci_001 = [round(ci_001_low, 3), round(ci_001_up, 3)]\n",
    "print(f'ci_001:\\n{ci_001}\\n')                     ## 99% CI for theta1"
   ]
  },
  {
   "cell_type": "markdown",
   "metadata": {},
   "source": [
    "Based on the confidence intervals do not contain zero. This provides statistical evidence that adding a 150-square-foot bedroom significantly increases the house price, with the percentage increase ranging from approximately 3.3% to 15.6% (95% confidence interval)."
   ]
  }
 ],
 "metadata": {
  "kernelspec": {
   "display_name": "Python 3 (ipykernel)",
   "language": "python",
   "name": "python3"
  },
  "language_info": {
   "codemirror_mode": {
    "name": "ipython",
    "version": 3
   },
   "file_extension": ".py",
   "mimetype": "text/x-python",
   "name": "python",
   "nbconvert_exporter": "python",
   "pygments_lexer": "ipython3",
   "version": "3.9.2"
  }
 },
 "nbformat": 4,
 "nbformat_minor": 2
}
